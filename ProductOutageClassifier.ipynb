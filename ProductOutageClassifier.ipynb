{
  "nbformat": 4,
  "nbformat_minor": 0,
  "metadata": {
    "colab": {
      "provenance": [],
      "include_colab_link": true
    },
    "kernelspec": {
      "name": "python3",
      "display_name": "Python 3"
    },
    "language_info": {
      "name": "python"
    },
    "widgets": {
      "application/vnd.jupyter.widget-state+json": {
        "0de1f979e6c745599a5b2d00e8db765a": {
          "model_module": "@jupyter-widgets/controls",
          "model_name": "HBoxModel",
          "model_module_version": "1.5.0",
          "state": {
            "_dom_classes": [],
            "_model_module": "@jupyter-widgets/controls",
            "_model_module_version": "1.5.0",
            "_model_name": "HBoxModel",
            "_view_count": null,
            "_view_module": "@jupyter-widgets/controls",
            "_view_module_version": "1.5.0",
            "_view_name": "HBoxView",
            "box_style": "",
            "children": [
              "IPY_MODEL_a0b376436c294318b19607128f37e83d",
              "IPY_MODEL_3f5ba44bd35849e481d7656fed76a655",
              "IPY_MODEL_fee7e2eccff847ad8002e684fa40ddc8"
            ],
            "layout": "IPY_MODEL_787a814de60f4f91a390cecdf84c805d"
          }
        },
        "a0b376436c294318b19607128f37e83d": {
          "model_module": "@jupyter-widgets/controls",
          "model_name": "HTMLModel",
          "model_module_version": "1.5.0",
          "state": {
            "_dom_classes": [],
            "_model_module": "@jupyter-widgets/controls",
            "_model_module_version": "1.5.0",
            "_model_name": "HTMLModel",
            "_view_count": null,
            "_view_module": "@jupyter-widgets/controls",
            "_view_module_version": "1.5.0",
            "_view_name": "HTMLView",
            "description": "",
            "description_tooltip": null,
            "layout": "IPY_MODEL_e92d739415c14c85bcb37431a58734d2",
            "placeholder": "​",
            "style": "IPY_MODEL_b2eeba50f1e545ce90eeadb372c77b7b",
            "value": "tokenizer_config.json: 100%"
          }
        },
        "3f5ba44bd35849e481d7656fed76a655": {
          "model_module": "@jupyter-widgets/controls",
          "model_name": "FloatProgressModel",
          "model_module_version": "1.5.0",
          "state": {
            "_dom_classes": [],
            "_model_module": "@jupyter-widgets/controls",
            "_model_module_version": "1.5.0",
            "_model_name": "FloatProgressModel",
            "_view_count": null,
            "_view_module": "@jupyter-widgets/controls",
            "_view_module_version": "1.5.0",
            "_view_name": "ProgressView",
            "bar_style": "success",
            "description": "",
            "description_tooltip": null,
            "layout": "IPY_MODEL_629a5ec4b0004c9793767e4f609ef350",
            "max": 48,
            "min": 0,
            "orientation": "horizontal",
            "style": "IPY_MODEL_9b1590d0e33f4e1ca1abcedbe63d8870",
            "value": 48
          }
        },
        "fee7e2eccff847ad8002e684fa40ddc8": {
          "model_module": "@jupyter-widgets/controls",
          "model_name": "HTMLModel",
          "model_module_version": "1.5.0",
          "state": {
            "_dom_classes": [],
            "_model_module": "@jupyter-widgets/controls",
            "_model_module_version": "1.5.0",
            "_model_name": "HTMLModel",
            "_view_count": null,
            "_view_module": "@jupyter-widgets/controls",
            "_view_module_version": "1.5.0",
            "_view_name": "HTMLView",
            "description": "",
            "description_tooltip": null,
            "layout": "IPY_MODEL_46a3fcbf61974ca0bb3e08fe2b7ba141",
            "placeholder": "​",
            "style": "IPY_MODEL_e8d9964a7dce4b0785bea526b29648cb",
            "value": " 48.0/48.0 [00:00&lt;00:00, 715B/s]"
          }
        },
        "787a814de60f4f91a390cecdf84c805d": {
          "model_module": "@jupyter-widgets/base",
          "model_name": "LayoutModel",
          "model_module_version": "1.2.0",
          "state": {
            "_model_module": "@jupyter-widgets/base",
            "_model_module_version": "1.2.0",
            "_model_name": "LayoutModel",
            "_view_count": null,
            "_view_module": "@jupyter-widgets/base",
            "_view_module_version": "1.2.0",
            "_view_name": "LayoutView",
            "align_content": null,
            "align_items": null,
            "align_self": null,
            "border": null,
            "bottom": null,
            "display": null,
            "flex": null,
            "flex_flow": null,
            "grid_area": null,
            "grid_auto_columns": null,
            "grid_auto_flow": null,
            "grid_auto_rows": null,
            "grid_column": null,
            "grid_gap": null,
            "grid_row": null,
            "grid_template_areas": null,
            "grid_template_columns": null,
            "grid_template_rows": null,
            "height": null,
            "justify_content": null,
            "justify_items": null,
            "left": null,
            "margin": null,
            "max_height": null,
            "max_width": null,
            "min_height": null,
            "min_width": null,
            "object_fit": null,
            "object_position": null,
            "order": null,
            "overflow": null,
            "overflow_x": null,
            "overflow_y": null,
            "padding": null,
            "right": null,
            "top": null,
            "visibility": null,
            "width": null
          }
        },
        "e92d739415c14c85bcb37431a58734d2": {
          "model_module": "@jupyter-widgets/base",
          "model_name": "LayoutModel",
          "model_module_version": "1.2.0",
          "state": {
            "_model_module": "@jupyter-widgets/base",
            "_model_module_version": "1.2.0",
            "_model_name": "LayoutModel",
            "_view_count": null,
            "_view_module": "@jupyter-widgets/base",
            "_view_module_version": "1.2.0",
            "_view_name": "LayoutView",
            "align_content": null,
            "align_items": null,
            "align_self": null,
            "border": null,
            "bottom": null,
            "display": null,
            "flex": null,
            "flex_flow": null,
            "grid_area": null,
            "grid_auto_columns": null,
            "grid_auto_flow": null,
            "grid_auto_rows": null,
            "grid_column": null,
            "grid_gap": null,
            "grid_row": null,
            "grid_template_areas": null,
            "grid_template_columns": null,
            "grid_template_rows": null,
            "height": null,
            "justify_content": null,
            "justify_items": null,
            "left": null,
            "margin": null,
            "max_height": null,
            "max_width": null,
            "min_height": null,
            "min_width": null,
            "object_fit": null,
            "object_position": null,
            "order": null,
            "overflow": null,
            "overflow_x": null,
            "overflow_y": null,
            "padding": null,
            "right": null,
            "top": null,
            "visibility": null,
            "width": null
          }
        },
        "b2eeba50f1e545ce90eeadb372c77b7b": {
          "model_module": "@jupyter-widgets/controls",
          "model_name": "DescriptionStyleModel",
          "model_module_version": "1.5.0",
          "state": {
            "_model_module": "@jupyter-widgets/controls",
            "_model_module_version": "1.5.0",
            "_model_name": "DescriptionStyleModel",
            "_view_count": null,
            "_view_module": "@jupyter-widgets/base",
            "_view_module_version": "1.2.0",
            "_view_name": "StyleView",
            "description_width": ""
          }
        },
        "629a5ec4b0004c9793767e4f609ef350": {
          "model_module": "@jupyter-widgets/base",
          "model_name": "LayoutModel",
          "model_module_version": "1.2.0",
          "state": {
            "_model_module": "@jupyter-widgets/base",
            "_model_module_version": "1.2.0",
            "_model_name": "LayoutModel",
            "_view_count": null,
            "_view_module": "@jupyter-widgets/base",
            "_view_module_version": "1.2.0",
            "_view_name": "LayoutView",
            "align_content": null,
            "align_items": null,
            "align_self": null,
            "border": null,
            "bottom": null,
            "display": null,
            "flex": null,
            "flex_flow": null,
            "grid_area": null,
            "grid_auto_columns": null,
            "grid_auto_flow": null,
            "grid_auto_rows": null,
            "grid_column": null,
            "grid_gap": null,
            "grid_row": null,
            "grid_template_areas": null,
            "grid_template_columns": null,
            "grid_template_rows": null,
            "height": null,
            "justify_content": null,
            "justify_items": null,
            "left": null,
            "margin": null,
            "max_height": null,
            "max_width": null,
            "min_height": null,
            "min_width": null,
            "object_fit": null,
            "object_position": null,
            "order": null,
            "overflow": null,
            "overflow_x": null,
            "overflow_y": null,
            "padding": null,
            "right": null,
            "top": null,
            "visibility": null,
            "width": null
          }
        },
        "9b1590d0e33f4e1ca1abcedbe63d8870": {
          "model_module": "@jupyter-widgets/controls",
          "model_name": "ProgressStyleModel",
          "model_module_version": "1.5.0",
          "state": {
            "_model_module": "@jupyter-widgets/controls",
            "_model_module_version": "1.5.0",
            "_model_name": "ProgressStyleModel",
            "_view_count": null,
            "_view_module": "@jupyter-widgets/base",
            "_view_module_version": "1.2.0",
            "_view_name": "StyleView",
            "bar_color": null,
            "description_width": ""
          }
        },
        "46a3fcbf61974ca0bb3e08fe2b7ba141": {
          "model_module": "@jupyter-widgets/base",
          "model_name": "LayoutModel",
          "model_module_version": "1.2.0",
          "state": {
            "_model_module": "@jupyter-widgets/base",
            "_model_module_version": "1.2.0",
            "_model_name": "LayoutModel",
            "_view_count": null,
            "_view_module": "@jupyter-widgets/base",
            "_view_module_version": "1.2.0",
            "_view_name": "LayoutView",
            "align_content": null,
            "align_items": null,
            "align_self": null,
            "border": null,
            "bottom": null,
            "display": null,
            "flex": null,
            "flex_flow": null,
            "grid_area": null,
            "grid_auto_columns": null,
            "grid_auto_flow": null,
            "grid_auto_rows": null,
            "grid_column": null,
            "grid_gap": null,
            "grid_row": null,
            "grid_template_areas": null,
            "grid_template_columns": null,
            "grid_template_rows": null,
            "height": null,
            "justify_content": null,
            "justify_items": null,
            "left": null,
            "margin": null,
            "max_height": null,
            "max_width": null,
            "min_height": null,
            "min_width": null,
            "object_fit": null,
            "object_position": null,
            "order": null,
            "overflow": null,
            "overflow_x": null,
            "overflow_y": null,
            "padding": null,
            "right": null,
            "top": null,
            "visibility": null,
            "width": null
          }
        },
        "e8d9964a7dce4b0785bea526b29648cb": {
          "model_module": "@jupyter-widgets/controls",
          "model_name": "DescriptionStyleModel",
          "model_module_version": "1.5.0",
          "state": {
            "_model_module": "@jupyter-widgets/controls",
            "_model_module_version": "1.5.0",
            "_model_name": "DescriptionStyleModel",
            "_view_count": null,
            "_view_module": "@jupyter-widgets/base",
            "_view_module_version": "1.2.0",
            "_view_name": "StyleView",
            "description_width": ""
          }
        },
        "89390687022340f39b2457254fd67f3b": {
          "model_module": "@jupyter-widgets/controls",
          "model_name": "HBoxModel",
          "model_module_version": "1.5.0",
          "state": {
            "_dom_classes": [],
            "_model_module": "@jupyter-widgets/controls",
            "_model_module_version": "1.5.0",
            "_model_name": "HBoxModel",
            "_view_count": null,
            "_view_module": "@jupyter-widgets/controls",
            "_view_module_version": "1.5.0",
            "_view_name": "HBoxView",
            "box_style": "",
            "children": [
              "IPY_MODEL_63c13a8a20cd4b909cf9baba3314a476",
              "IPY_MODEL_fd1184017e5443f4b4b2d9b07210e7a3",
              "IPY_MODEL_3672959aba9b4366ac5d039bfba76aed"
            ],
            "layout": "IPY_MODEL_23a11712f0f4480686ef6026c8d104b2"
          }
        },
        "63c13a8a20cd4b909cf9baba3314a476": {
          "model_module": "@jupyter-widgets/controls",
          "model_name": "HTMLModel",
          "model_module_version": "1.5.0",
          "state": {
            "_dom_classes": [],
            "_model_module": "@jupyter-widgets/controls",
            "_model_module_version": "1.5.0",
            "_model_name": "HTMLModel",
            "_view_count": null,
            "_view_module": "@jupyter-widgets/controls",
            "_view_module_version": "1.5.0",
            "_view_name": "HTMLView",
            "description": "",
            "description_tooltip": null,
            "layout": "IPY_MODEL_6f268a44fbd141faae3d368aeda313b6",
            "placeholder": "​",
            "style": "IPY_MODEL_355c5901509d4e579774a00af83c88e7",
            "value": "config.json: 100%"
          }
        },
        "fd1184017e5443f4b4b2d9b07210e7a3": {
          "model_module": "@jupyter-widgets/controls",
          "model_name": "FloatProgressModel",
          "model_module_version": "1.5.0",
          "state": {
            "_dom_classes": [],
            "_model_module": "@jupyter-widgets/controls",
            "_model_module_version": "1.5.0",
            "_model_name": "FloatProgressModel",
            "_view_count": null,
            "_view_module": "@jupyter-widgets/controls",
            "_view_module_version": "1.5.0",
            "_view_name": "ProgressView",
            "bar_style": "success",
            "description": "",
            "description_tooltip": null,
            "layout": "IPY_MODEL_5d79d391f3004baa961316345168199a",
            "max": 570,
            "min": 0,
            "orientation": "horizontal",
            "style": "IPY_MODEL_026b626dc714418daa0747a39021ca01",
            "value": 570
          }
        },
        "3672959aba9b4366ac5d039bfba76aed": {
          "model_module": "@jupyter-widgets/controls",
          "model_name": "HTMLModel",
          "model_module_version": "1.5.0",
          "state": {
            "_dom_classes": [],
            "_model_module": "@jupyter-widgets/controls",
            "_model_module_version": "1.5.0",
            "_model_name": "HTMLModel",
            "_view_count": null,
            "_view_module": "@jupyter-widgets/controls",
            "_view_module_version": "1.5.0",
            "_view_name": "HTMLView",
            "description": "",
            "description_tooltip": null,
            "layout": "IPY_MODEL_b3c0f04c85a744148fd49585287feb3f",
            "placeholder": "​",
            "style": "IPY_MODEL_840ced5f4bdb4743a91227e0b57420a5",
            "value": " 570/570 [00:00&lt;00:00, 4.46kB/s]"
          }
        },
        "23a11712f0f4480686ef6026c8d104b2": {
          "model_module": "@jupyter-widgets/base",
          "model_name": "LayoutModel",
          "model_module_version": "1.2.0",
          "state": {
            "_model_module": "@jupyter-widgets/base",
            "_model_module_version": "1.2.0",
            "_model_name": "LayoutModel",
            "_view_count": null,
            "_view_module": "@jupyter-widgets/base",
            "_view_module_version": "1.2.0",
            "_view_name": "LayoutView",
            "align_content": null,
            "align_items": null,
            "align_self": null,
            "border": null,
            "bottom": null,
            "display": null,
            "flex": null,
            "flex_flow": null,
            "grid_area": null,
            "grid_auto_columns": null,
            "grid_auto_flow": null,
            "grid_auto_rows": null,
            "grid_column": null,
            "grid_gap": null,
            "grid_row": null,
            "grid_template_areas": null,
            "grid_template_columns": null,
            "grid_template_rows": null,
            "height": null,
            "justify_content": null,
            "justify_items": null,
            "left": null,
            "margin": null,
            "max_height": null,
            "max_width": null,
            "min_height": null,
            "min_width": null,
            "object_fit": null,
            "object_position": null,
            "order": null,
            "overflow": null,
            "overflow_x": null,
            "overflow_y": null,
            "padding": null,
            "right": null,
            "top": null,
            "visibility": null,
            "width": null
          }
        },
        "6f268a44fbd141faae3d368aeda313b6": {
          "model_module": "@jupyter-widgets/base",
          "model_name": "LayoutModel",
          "model_module_version": "1.2.0",
          "state": {
            "_model_module": "@jupyter-widgets/base",
            "_model_module_version": "1.2.0",
            "_model_name": "LayoutModel",
            "_view_count": null,
            "_view_module": "@jupyter-widgets/base",
            "_view_module_version": "1.2.0",
            "_view_name": "LayoutView",
            "align_content": null,
            "align_items": null,
            "align_self": null,
            "border": null,
            "bottom": null,
            "display": null,
            "flex": null,
            "flex_flow": null,
            "grid_area": null,
            "grid_auto_columns": null,
            "grid_auto_flow": null,
            "grid_auto_rows": null,
            "grid_column": null,
            "grid_gap": null,
            "grid_row": null,
            "grid_template_areas": null,
            "grid_template_columns": null,
            "grid_template_rows": null,
            "height": null,
            "justify_content": null,
            "justify_items": null,
            "left": null,
            "margin": null,
            "max_height": null,
            "max_width": null,
            "min_height": null,
            "min_width": null,
            "object_fit": null,
            "object_position": null,
            "order": null,
            "overflow": null,
            "overflow_x": null,
            "overflow_y": null,
            "padding": null,
            "right": null,
            "top": null,
            "visibility": null,
            "width": null
          }
        },
        "355c5901509d4e579774a00af83c88e7": {
          "model_module": "@jupyter-widgets/controls",
          "model_name": "DescriptionStyleModel",
          "model_module_version": "1.5.0",
          "state": {
            "_model_module": "@jupyter-widgets/controls",
            "_model_module_version": "1.5.0",
            "_model_name": "DescriptionStyleModel",
            "_view_count": null,
            "_view_module": "@jupyter-widgets/base",
            "_view_module_version": "1.2.0",
            "_view_name": "StyleView",
            "description_width": ""
          }
        },
        "5d79d391f3004baa961316345168199a": {
          "model_module": "@jupyter-widgets/base",
          "model_name": "LayoutModel",
          "model_module_version": "1.2.0",
          "state": {
            "_model_module": "@jupyter-widgets/base",
            "_model_module_version": "1.2.0",
            "_model_name": "LayoutModel",
            "_view_count": null,
            "_view_module": "@jupyter-widgets/base",
            "_view_module_version": "1.2.0",
            "_view_name": "LayoutView",
            "align_content": null,
            "align_items": null,
            "align_self": null,
            "border": null,
            "bottom": null,
            "display": null,
            "flex": null,
            "flex_flow": null,
            "grid_area": null,
            "grid_auto_columns": null,
            "grid_auto_flow": null,
            "grid_auto_rows": null,
            "grid_column": null,
            "grid_gap": null,
            "grid_row": null,
            "grid_template_areas": null,
            "grid_template_columns": null,
            "grid_template_rows": null,
            "height": null,
            "justify_content": null,
            "justify_items": null,
            "left": null,
            "margin": null,
            "max_height": null,
            "max_width": null,
            "min_height": null,
            "min_width": null,
            "object_fit": null,
            "object_position": null,
            "order": null,
            "overflow": null,
            "overflow_x": null,
            "overflow_y": null,
            "padding": null,
            "right": null,
            "top": null,
            "visibility": null,
            "width": null
          }
        },
        "026b626dc714418daa0747a39021ca01": {
          "model_module": "@jupyter-widgets/controls",
          "model_name": "ProgressStyleModel",
          "model_module_version": "1.5.0",
          "state": {
            "_model_module": "@jupyter-widgets/controls",
            "_model_module_version": "1.5.0",
            "_model_name": "ProgressStyleModel",
            "_view_count": null,
            "_view_module": "@jupyter-widgets/base",
            "_view_module_version": "1.2.0",
            "_view_name": "StyleView",
            "bar_color": null,
            "description_width": ""
          }
        },
        "b3c0f04c85a744148fd49585287feb3f": {
          "model_module": "@jupyter-widgets/base",
          "model_name": "LayoutModel",
          "model_module_version": "1.2.0",
          "state": {
            "_model_module": "@jupyter-widgets/base",
            "_model_module_version": "1.2.0",
            "_model_name": "LayoutModel",
            "_view_count": null,
            "_view_module": "@jupyter-widgets/base",
            "_view_module_version": "1.2.0",
            "_view_name": "LayoutView",
            "align_content": null,
            "align_items": null,
            "align_self": null,
            "border": null,
            "bottom": null,
            "display": null,
            "flex": null,
            "flex_flow": null,
            "grid_area": null,
            "grid_auto_columns": null,
            "grid_auto_flow": null,
            "grid_auto_rows": null,
            "grid_column": null,
            "grid_gap": null,
            "grid_row": null,
            "grid_template_areas": null,
            "grid_template_columns": null,
            "grid_template_rows": null,
            "height": null,
            "justify_content": null,
            "justify_items": null,
            "left": null,
            "margin": null,
            "max_height": null,
            "max_width": null,
            "min_height": null,
            "min_width": null,
            "object_fit": null,
            "object_position": null,
            "order": null,
            "overflow": null,
            "overflow_x": null,
            "overflow_y": null,
            "padding": null,
            "right": null,
            "top": null,
            "visibility": null,
            "width": null
          }
        },
        "840ced5f4bdb4743a91227e0b57420a5": {
          "model_module": "@jupyter-widgets/controls",
          "model_name": "DescriptionStyleModel",
          "model_module_version": "1.5.0",
          "state": {
            "_model_module": "@jupyter-widgets/controls",
            "_model_module_version": "1.5.0",
            "_model_name": "DescriptionStyleModel",
            "_view_count": null,
            "_view_module": "@jupyter-widgets/base",
            "_view_module_version": "1.2.0",
            "_view_name": "StyleView",
            "description_width": ""
          }
        },
        "f61061d6a4dc40199507de0280f4fb90": {
          "model_module": "@jupyter-widgets/controls",
          "model_name": "HBoxModel",
          "model_module_version": "1.5.0",
          "state": {
            "_dom_classes": [],
            "_model_module": "@jupyter-widgets/controls",
            "_model_module_version": "1.5.0",
            "_model_name": "HBoxModel",
            "_view_count": null,
            "_view_module": "@jupyter-widgets/controls",
            "_view_module_version": "1.5.0",
            "_view_name": "HBoxView",
            "box_style": "",
            "children": [
              "IPY_MODEL_ff86b27c47264aa1a412e441cbde6ee6",
              "IPY_MODEL_9d0c828562a44c47aa5456b9d955251a",
              "IPY_MODEL_7230933420bf42afa2b78044e3e7e237"
            ],
            "layout": "IPY_MODEL_b82a67d075894fbcbe3e497a87d9b708"
          }
        },
        "ff86b27c47264aa1a412e441cbde6ee6": {
          "model_module": "@jupyter-widgets/controls",
          "model_name": "HTMLModel",
          "model_module_version": "1.5.0",
          "state": {
            "_dom_classes": [],
            "_model_module": "@jupyter-widgets/controls",
            "_model_module_version": "1.5.0",
            "_model_name": "HTMLModel",
            "_view_count": null,
            "_view_module": "@jupyter-widgets/controls",
            "_view_module_version": "1.5.0",
            "_view_name": "HTMLView",
            "description": "",
            "description_tooltip": null,
            "layout": "IPY_MODEL_56dbebe0b7fb45cb9774083466980573",
            "placeholder": "​",
            "style": "IPY_MODEL_68a0636c23174266a70fcec95a9e830f",
            "value": "vocab.txt: 100%"
          }
        },
        "9d0c828562a44c47aa5456b9d955251a": {
          "model_module": "@jupyter-widgets/controls",
          "model_name": "FloatProgressModel",
          "model_module_version": "1.5.0",
          "state": {
            "_dom_classes": [],
            "_model_module": "@jupyter-widgets/controls",
            "_model_module_version": "1.5.0",
            "_model_name": "FloatProgressModel",
            "_view_count": null,
            "_view_module": "@jupyter-widgets/controls",
            "_view_module_version": "1.5.0",
            "_view_name": "ProgressView",
            "bar_style": "success",
            "description": "",
            "description_tooltip": null,
            "layout": "IPY_MODEL_cdfa3281383842039cdc564c4964b921",
            "max": 231508,
            "min": 0,
            "orientation": "horizontal",
            "style": "IPY_MODEL_9327e1f5790f4839b32f2a77f012762a",
            "value": 231508
          }
        },
        "7230933420bf42afa2b78044e3e7e237": {
          "model_module": "@jupyter-widgets/controls",
          "model_name": "HTMLModel",
          "model_module_version": "1.5.0",
          "state": {
            "_dom_classes": [],
            "_model_module": "@jupyter-widgets/controls",
            "_model_module_version": "1.5.0",
            "_model_name": "HTMLModel",
            "_view_count": null,
            "_view_module": "@jupyter-widgets/controls",
            "_view_module_version": "1.5.0",
            "_view_name": "HTMLView",
            "description": "",
            "description_tooltip": null,
            "layout": "IPY_MODEL_92b60b8a8b9d405c8335337b2a91bf09",
            "placeholder": "​",
            "style": "IPY_MODEL_dd51a8dca4614d30816b62f6e919fc93",
            "value": " 232k/232k [00:00&lt;00:00, 1.49MB/s]"
          }
        },
        "b82a67d075894fbcbe3e497a87d9b708": {
          "model_module": "@jupyter-widgets/base",
          "model_name": "LayoutModel",
          "model_module_version": "1.2.0",
          "state": {
            "_model_module": "@jupyter-widgets/base",
            "_model_module_version": "1.2.0",
            "_model_name": "LayoutModel",
            "_view_count": null,
            "_view_module": "@jupyter-widgets/base",
            "_view_module_version": "1.2.0",
            "_view_name": "LayoutView",
            "align_content": null,
            "align_items": null,
            "align_self": null,
            "border": null,
            "bottom": null,
            "display": null,
            "flex": null,
            "flex_flow": null,
            "grid_area": null,
            "grid_auto_columns": null,
            "grid_auto_flow": null,
            "grid_auto_rows": null,
            "grid_column": null,
            "grid_gap": null,
            "grid_row": null,
            "grid_template_areas": null,
            "grid_template_columns": null,
            "grid_template_rows": null,
            "height": null,
            "justify_content": null,
            "justify_items": null,
            "left": null,
            "margin": null,
            "max_height": null,
            "max_width": null,
            "min_height": null,
            "min_width": null,
            "object_fit": null,
            "object_position": null,
            "order": null,
            "overflow": null,
            "overflow_x": null,
            "overflow_y": null,
            "padding": null,
            "right": null,
            "top": null,
            "visibility": null,
            "width": null
          }
        },
        "56dbebe0b7fb45cb9774083466980573": {
          "model_module": "@jupyter-widgets/base",
          "model_name": "LayoutModel",
          "model_module_version": "1.2.0",
          "state": {
            "_model_module": "@jupyter-widgets/base",
            "_model_module_version": "1.2.0",
            "_model_name": "LayoutModel",
            "_view_count": null,
            "_view_module": "@jupyter-widgets/base",
            "_view_module_version": "1.2.0",
            "_view_name": "LayoutView",
            "align_content": null,
            "align_items": null,
            "align_self": null,
            "border": null,
            "bottom": null,
            "display": null,
            "flex": null,
            "flex_flow": null,
            "grid_area": null,
            "grid_auto_columns": null,
            "grid_auto_flow": null,
            "grid_auto_rows": null,
            "grid_column": null,
            "grid_gap": null,
            "grid_row": null,
            "grid_template_areas": null,
            "grid_template_columns": null,
            "grid_template_rows": null,
            "height": null,
            "justify_content": null,
            "justify_items": null,
            "left": null,
            "margin": null,
            "max_height": null,
            "max_width": null,
            "min_height": null,
            "min_width": null,
            "object_fit": null,
            "object_position": null,
            "order": null,
            "overflow": null,
            "overflow_x": null,
            "overflow_y": null,
            "padding": null,
            "right": null,
            "top": null,
            "visibility": null,
            "width": null
          }
        },
        "68a0636c23174266a70fcec95a9e830f": {
          "model_module": "@jupyter-widgets/controls",
          "model_name": "DescriptionStyleModel",
          "model_module_version": "1.5.0",
          "state": {
            "_model_module": "@jupyter-widgets/controls",
            "_model_module_version": "1.5.0",
            "_model_name": "DescriptionStyleModel",
            "_view_count": null,
            "_view_module": "@jupyter-widgets/base",
            "_view_module_version": "1.2.0",
            "_view_name": "StyleView",
            "description_width": ""
          }
        },
        "cdfa3281383842039cdc564c4964b921": {
          "model_module": "@jupyter-widgets/base",
          "model_name": "LayoutModel",
          "model_module_version": "1.2.0",
          "state": {
            "_model_module": "@jupyter-widgets/base",
            "_model_module_version": "1.2.0",
            "_model_name": "LayoutModel",
            "_view_count": null,
            "_view_module": "@jupyter-widgets/base",
            "_view_module_version": "1.2.0",
            "_view_name": "LayoutView",
            "align_content": null,
            "align_items": null,
            "align_self": null,
            "border": null,
            "bottom": null,
            "display": null,
            "flex": null,
            "flex_flow": null,
            "grid_area": null,
            "grid_auto_columns": null,
            "grid_auto_flow": null,
            "grid_auto_rows": null,
            "grid_column": null,
            "grid_gap": null,
            "grid_row": null,
            "grid_template_areas": null,
            "grid_template_columns": null,
            "grid_template_rows": null,
            "height": null,
            "justify_content": null,
            "justify_items": null,
            "left": null,
            "margin": null,
            "max_height": null,
            "max_width": null,
            "min_height": null,
            "min_width": null,
            "object_fit": null,
            "object_position": null,
            "order": null,
            "overflow": null,
            "overflow_x": null,
            "overflow_y": null,
            "padding": null,
            "right": null,
            "top": null,
            "visibility": null,
            "width": null
          }
        },
        "9327e1f5790f4839b32f2a77f012762a": {
          "model_module": "@jupyter-widgets/controls",
          "model_name": "ProgressStyleModel",
          "model_module_version": "1.5.0",
          "state": {
            "_model_module": "@jupyter-widgets/controls",
            "_model_module_version": "1.5.0",
            "_model_name": "ProgressStyleModel",
            "_view_count": null,
            "_view_module": "@jupyter-widgets/base",
            "_view_module_version": "1.2.0",
            "_view_name": "StyleView",
            "bar_color": null,
            "description_width": ""
          }
        },
        "92b60b8a8b9d405c8335337b2a91bf09": {
          "model_module": "@jupyter-widgets/base",
          "model_name": "LayoutModel",
          "model_module_version": "1.2.0",
          "state": {
            "_model_module": "@jupyter-widgets/base",
            "_model_module_version": "1.2.0",
            "_model_name": "LayoutModel",
            "_view_count": null,
            "_view_module": "@jupyter-widgets/base",
            "_view_module_version": "1.2.0",
            "_view_name": "LayoutView",
            "align_content": null,
            "align_items": null,
            "align_self": null,
            "border": null,
            "bottom": null,
            "display": null,
            "flex": null,
            "flex_flow": null,
            "grid_area": null,
            "grid_auto_columns": null,
            "grid_auto_flow": null,
            "grid_auto_rows": null,
            "grid_column": null,
            "grid_gap": null,
            "grid_row": null,
            "grid_template_areas": null,
            "grid_template_columns": null,
            "grid_template_rows": null,
            "height": null,
            "justify_content": null,
            "justify_items": null,
            "left": null,
            "margin": null,
            "max_height": null,
            "max_width": null,
            "min_height": null,
            "min_width": null,
            "object_fit": null,
            "object_position": null,
            "order": null,
            "overflow": null,
            "overflow_x": null,
            "overflow_y": null,
            "padding": null,
            "right": null,
            "top": null,
            "visibility": null,
            "width": null
          }
        },
        "dd51a8dca4614d30816b62f6e919fc93": {
          "model_module": "@jupyter-widgets/controls",
          "model_name": "DescriptionStyleModel",
          "model_module_version": "1.5.0",
          "state": {
            "_model_module": "@jupyter-widgets/controls",
            "_model_module_version": "1.5.0",
            "_model_name": "DescriptionStyleModel",
            "_view_count": null,
            "_view_module": "@jupyter-widgets/base",
            "_view_module_version": "1.2.0",
            "_view_name": "StyleView",
            "description_width": ""
          }
        },
        "f9a65f292ad34a8892c11ef164782638": {
          "model_module": "@jupyter-widgets/controls",
          "model_name": "HBoxModel",
          "model_module_version": "1.5.0",
          "state": {
            "_dom_classes": [],
            "_model_module": "@jupyter-widgets/controls",
            "_model_module_version": "1.5.0",
            "_model_name": "HBoxModel",
            "_view_count": null,
            "_view_module": "@jupyter-widgets/controls",
            "_view_module_version": "1.5.0",
            "_view_name": "HBoxView",
            "box_style": "",
            "children": [
              "IPY_MODEL_9e6fd4ce485140089221b7211850208a",
              "IPY_MODEL_f1eee66148e54c62a74eb5645796753a",
              "IPY_MODEL_c6929fba9264430e8f3c7f058f523f9b"
            ],
            "layout": "IPY_MODEL_9e6bd9a8bdca4f85afb4f3245b2fed83"
          }
        },
        "9e6fd4ce485140089221b7211850208a": {
          "model_module": "@jupyter-widgets/controls",
          "model_name": "HTMLModel",
          "model_module_version": "1.5.0",
          "state": {
            "_dom_classes": [],
            "_model_module": "@jupyter-widgets/controls",
            "_model_module_version": "1.5.0",
            "_model_name": "HTMLModel",
            "_view_count": null,
            "_view_module": "@jupyter-widgets/controls",
            "_view_module_version": "1.5.0",
            "_view_name": "HTMLView",
            "description": "",
            "description_tooltip": null,
            "layout": "IPY_MODEL_22a6fa84737f4612bc43cf2049dd7279",
            "placeholder": "​",
            "style": "IPY_MODEL_4368fb17a1774a8380c5abd3ca7facaf",
            "value": "tokenizer.json: 100%"
          }
        },
        "f1eee66148e54c62a74eb5645796753a": {
          "model_module": "@jupyter-widgets/controls",
          "model_name": "FloatProgressModel",
          "model_module_version": "1.5.0",
          "state": {
            "_dom_classes": [],
            "_model_module": "@jupyter-widgets/controls",
            "_model_module_version": "1.5.0",
            "_model_name": "FloatProgressModel",
            "_view_count": null,
            "_view_module": "@jupyter-widgets/controls",
            "_view_module_version": "1.5.0",
            "_view_name": "ProgressView",
            "bar_style": "success",
            "description": "",
            "description_tooltip": null,
            "layout": "IPY_MODEL_b25f57858aa241a98c348208884e6332",
            "max": 466062,
            "min": 0,
            "orientation": "horizontal",
            "style": "IPY_MODEL_bc325adb2755479fbfefde922304163e",
            "value": 466062
          }
        },
        "c6929fba9264430e8f3c7f058f523f9b": {
          "model_module": "@jupyter-widgets/controls",
          "model_name": "HTMLModel",
          "model_module_version": "1.5.0",
          "state": {
            "_dom_classes": [],
            "_model_module": "@jupyter-widgets/controls",
            "_model_module_version": "1.5.0",
            "_model_name": "HTMLModel",
            "_view_count": null,
            "_view_module": "@jupyter-widgets/controls",
            "_view_module_version": "1.5.0",
            "_view_name": "HTMLView",
            "description": "",
            "description_tooltip": null,
            "layout": "IPY_MODEL_5683b9423e90468ebe3a675520004899",
            "placeholder": "​",
            "style": "IPY_MODEL_69a968d90ea24151bd113c3137dfb370",
            "value": " 466k/466k [00:00&lt;00:00, 4.61MB/s]"
          }
        },
        "9e6bd9a8bdca4f85afb4f3245b2fed83": {
          "model_module": "@jupyter-widgets/base",
          "model_name": "LayoutModel",
          "model_module_version": "1.2.0",
          "state": {
            "_model_module": "@jupyter-widgets/base",
            "_model_module_version": "1.2.0",
            "_model_name": "LayoutModel",
            "_view_count": null,
            "_view_module": "@jupyter-widgets/base",
            "_view_module_version": "1.2.0",
            "_view_name": "LayoutView",
            "align_content": null,
            "align_items": null,
            "align_self": null,
            "border": null,
            "bottom": null,
            "display": null,
            "flex": null,
            "flex_flow": null,
            "grid_area": null,
            "grid_auto_columns": null,
            "grid_auto_flow": null,
            "grid_auto_rows": null,
            "grid_column": null,
            "grid_gap": null,
            "grid_row": null,
            "grid_template_areas": null,
            "grid_template_columns": null,
            "grid_template_rows": null,
            "height": null,
            "justify_content": null,
            "justify_items": null,
            "left": null,
            "margin": null,
            "max_height": null,
            "max_width": null,
            "min_height": null,
            "min_width": null,
            "object_fit": null,
            "object_position": null,
            "order": null,
            "overflow": null,
            "overflow_x": null,
            "overflow_y": null,
            "padding": null,
            "right": null,
            "top": null,
            "visibility": null,
            "width": null
          }
        },
        "22a6fa84737f4612bc43cf2049dd7279": {
          "model_module": "@jupyter-widgets/base",
          "model_name": "LayoutModel",
          "model_module_version": "1.2.0",
          "state": {
            "_model_module": "@jupyter-widgets/base",
            "_model_module_version": "1.2.0",
            "_model_name": "LayoutModel",
            "_view_count": null,
            "_view_module": "@jupyter-widgets/base",
            "_view_module_version": "1.2.0",
            "_view_name": "LayoutView",
            "align_content": null,
            "align_items": null,
            "align_self": null,
            "border": null,
            "bottom": null,
            "display": null,
            "flex": null,
            "flex_flow": null,
            "grid_area": null,
            "grid_auto_columns": null,
            "grid_auto_flow": null,
            "grid_auto_rows": null,
            "grid_column": null,
            "grid_gap": null,
            "grid_row": null,
            "grid_template_areas": null,
            "grid_template_columns": null,
            "grid_template_rows": null,
            "height": null,
            "justify_content": null,
            "justify_items": null,
            "left": null,
            "margin": null,
            "max_height": null,
            "max_width": null,
            "min_height": null,
            "min_width": null,
            "object_fit": null,
            "object_position": null,
            "order": null,
            "overflow": null,
            "overflow_x": null,
            "overflow_y": null,
            "padding": null,
            "right": null,
            "top": null,
            "visibility": null,
            "width": null
          }
        },
        "4368fb17a1774a8380c5abd3ca7facaf": {
          "model_module": "@jupyter-widgets/controls",
          "model_name": "DescriptionStyleModel",
          "model_module_version": "1.5.0",
          "state": {
            "_model_module": "@jupyter-widgets/controls",
            "_model_module_version": "1.5.0",
            "_model_name": "DescriptionStyleModel",
            "_view_count": null,
            "_view_module": "@jupyter-widgets/base",
            "_view_module_version": "1.2.0",
            "_view_name": "StyleView",
            "description_width": ""
          }
        },
        "b25f57858aa241a98c348208884e6332": {
          "model_module": "@jupyter-widgets/base",
          "model_name": "LayoutModel",
          "model_module_version": "1.2.0",
          "state": {
            "_model_module": "@jupyter-widgets/base",
            "_model_module_version": "1.2.0",
            "_model_name": "LayoutModel",
            "_view_count": null,
            "_view_module": "@jupyter-widgets/base",
            "_view_module_version": "1.2.0",
            "_view_name": "LayoutView",
            "align_content": null,
            "align_items": null,
            "align_self": null,
            "border": null,
            "bottom": null,
            "display": null,
            "flex": null,
            "flex_flow": null,
            "grid_area": null,
            "grid_auto_columns": null,
            "grid_auto_flow": null,
            "grid_auto_rows": null,
            "grid_column": null,
            "grid_gap": null,
            "grid_row": null,
            "grid_template_areas": null,
            "grid_template_columns": null,
            "grid_template_rows": null,
            "height": null,
            "justify_content": null,
            "justify_items": null,
            "left": null,
            "margin": null,
            "max_height": null,
            "max_width": null,
            "min_height": null,
            "min_width": null,
            "object_fit": null,
            "object_position": null,
            "order": null,
            "overflow": null,
            "overflow_x": null,
            "overflow_y": null,
            "padding": null,
            "right": null,
            "top": null,
            "visibility": null,
            "width": null
          }
        },
        "bc325adb2755479fbfefde922304163e": {
          "model_module": "@jupyter-widgets/controls",
          "model_name": "ProgressStyleModel",
          "model_module_version": "1.5.0",
          "state": {
            "_model_module": "@jupyter-widgets/controls",
            "_model_module_version": "1.5.0",
            "_model_name": "ProgressStyleModel",
            "_view_count": null,
            "_view_module": "@jupyter-widgets/base",
            "_view_module_version": "1.2.0",
            "_view_name": "StyleView",
            "bar_color": null,
            "description_width": ""
          }
        },
        "5683b9423e90468ebe3a675520004899": {
          "model_module": "@jupyter-widgets/base",
          "model_name": "LayoutModel",
          "model_module_version": "1.2.0",
          "state": {
            "_model_module": "@jupyter-widgets/base",
            "_model_module_version": "1.2.0",
            "_model_name": "LayoutModel",
            "_view_count": null,
            "_view_module": "@jupyter-widgets/base",
            "_view_module_version": "1.2.0",
            "_view_name": "LayoutView",
            "align_content": null,
            "align_items": null,
            "align_self": null,
            "border": null,
            "bottom": null,
            "display": null,
            "flex": null,
            "flex_flow": null,
            "grid_area": null,
            "grid_auto_columns": null,
            "grid_auto_flow": null,
            "grid_auto_rows": null,
            "grid_column": null,
            "grid_gap": null,
            "grid_row": null,
            "grid_template_areas": null,
            "grid_template_columns": null,
            "grid_template_rows": null,
            "height": null,
            "justify_content": null,
            "justify_items": null,
            "left": null,
            "margin": null,
            "max_height": null,
            "max_width": null,
            "min_height": null,
            "min_width": null,
            "object_fit": null,
            "object_position": null,
            "order": null,
            "overflow": null,
            "overflow_x": null,
            "overflow_y": null,
            "padding": null,
            "right": null,
            "top": null,
            "visibility": null,
            "width": null
          }
        },
        "69a968d90ea24151bd113c3137dfb370": {
          "model_module": "@jupyter-widgets/controls",
          "model_name": "DescriptionStyleModel",
          "model_module_version": "1.5.0",
          "state": {
            "_model_module": "@jupyter-widgets/controls",
            "_model_module_version": "1.5.0",
            "_model_name": "DescriptionStyleModel",
            "_view_count": null,
            "_view_module": "@jupyter-widgets/base",
            "_view_module_version": "1.2.0",
            "_view_name": "StyleView",
            "description_width": ""
          }
        },
        "a70cb6f84d32477e8116b62ba3fe4e7b": {
          "model_module": "@jupyter-widgets/controls",
          "model_name": "HBoxModel",
          "model_module_version": "1.5.0",
          "state": {
            "_dom_classes": [],
            "_model_module": "@jupyter-widgets/controls",
            "_model_module_version": "1.5.0",
            "_model_name": "HBoxModel",
            "_view_count": null,
            "_view_module": "@jupyter-widgets/controls",
            "_view_module_version": "1.5.0",
            "_view_name": "HBoxView",
            "box_style": "",
            "children": [
              "IPY_MODEL_9dda84b0fe2449b89711c7046b1f0888",
              "IPY_MODEL_fa6865bc09184cc2971d660498977de5",
              "IPY_MODEL_bc2d30a8cdbc49b082d4b7c7447346e5"
            ],
            "layout": "IPY_MODEL_073a57663f18450ea0cafad035ecba65"
          }
        },
        "9dda84b0fe2449b89711c7046b1f0888": {
          "model_module": "@jupyter-widgets/controls",
          "model_name": "HTMLModel",
          "model_module_version": "1.5.0",
          "state": {
            "_dom_classes": [],
            "_model_module": "@jupyter-widgets/controls",
            "_model_module_version": "1.5.0",
            "_model_name": "HTMLModel",
            "_view_count": null,
            "_view_module": "@jupyter-widgets/controls",
            "_view_module_version": "1.5.0",
            "_view_name": "HTMLView",
            "description": "",
            "description_tooltip": null,
            "layout": "IPY_MODEL_6430a5d25353414599f09ead7db66203",
            "placeholder": "​",
            "style": "IPY_MODEL_f406999da3474cd2bb0cc4a3ff946d9f",
            "value": "model.safetensors: 100%"
          }
        },
        "fa6865bc09184cc2971d660498977de5": {
          "model_module": "@jupyter-widgets/controls",
          "model_name": "FloatProgressModel",
          "model_module_version": "1.5.0",
          "state": {
            "_dom_classes": [],
            "_model_module": "@jupyter-widgets/controls",
            "_model_module_version": "1.5.0",
            "_model_name": "FloatProgressModel",
            "_view_count": null,
            "_view_module": "@jupyter-widgets/controls",
            "_view_module_version": "1.5.0",
            "_view_name": "ProgressView",
            "bar_style": "success",
            "description": "",
            "description_tooltip": null,
            "layout": "IPY_MODEL_863db9e08d594069afc558e312da2f72",
            "max": 440449768,
            "min": 0,
            "orientation": "horizontal",
            "style": "IPY_MODEL_0bace5af6b0449ef895d3a38e85653a8",
            "value": 440449768
          }
        },
        "bc2d30a8cdbc49b082d4b7c7447346e5": {
          "model_module": "@jupyter-widgets/controls",
          "model_name": "HTMLModel",
          "model_module_version": "1.5.0",
          "state": {
            "_dom_classes": [],
            "_model_module": "@jupyter-widgets/controls",
            "_model_module_version": "1.5.0",
            "_model_name": "HTMLModel",
            "_view_count": null,
            "_view_module": "@jupyter-widgets/controls",
            "_view_module_version": "1.5.0",
            "_view_name": "HTMLView",
            "description": "",
            "description_tooltip": null,
            "layout": "IPY_MODEL_c9dafaf84db04228abaa496fcb8d0e42",
            "placeholder": "​",
            "style": "IPY_MODEL_3a5ed14ab31a4a038c56042732d7f93b",
            "value": " 440M/440M [00:11&lt;00:00, 55.2MB/s]"
          }
        },
        "073a57663f18450ea0cafad035ecba65": {
          "model_module": "@jupyter-widgets/base",
          "model_name": "LayoutModel",
          "model_module_version": "1.2.0",
          "state": {
            "_model_module": "@jupyter-widgets/base",
            "_model_module_version": "1.2.0",
            "_model_name": "LayoutModel",
            "_view_count": null,
            "_view_module": "@jupyter-widgets/base",
            "_view_module_version": "1.2.0",
            "_view_name": "LayoutView",
            "align_content": null,
            "align_items": null,
            "align_self": null,
            "border": null,
            "bottom": null,
            "display": null,
            "flex": null,
            "flex_flow": null,
            "grid_area": null,
            "grid_auto_columns": null,
            "grid_auto_flow": null,
            "grid_auto_rows": null,
            "grid_column": null,
            "grid_gap": null,
            "grid_row": null,
            "grid_template_areas": null,
            "grid_template_columns": null,
            "grid_template_rows": null,
            "height": null,
            "justify_content": null,
            "justify_items": null,
            "left": null,
            "margin": null,
            "max_height": null,
            "max_width": null,
            "min_height": null,
            "min_width": null,
            "object_fit": null,
            "object_position": null,
            "order": null,
            "overflow": null,
            "overflow_x": null,
            "overflow_y": null,
            "padding": null,
            "right": null,
            "top": null,
            "visibility": null,
            "width": null
          }
        },
        "6430a5d25353414599f09ead7db66203": {
          "model_module": "@jupyter-widgets/base",
          "model_name": "LayoutModel",
          "model_module_version": "1.2.0",
          "state": {
            "_model_module": "@jupyter-widgets/base",
            "_model_module_version": "1.2.0",
            "_model_name": "LayoutModel",
            "_view_count": null,
            "_view_module": "@jupyter-widgets/base",
            "_view_module_version": "1.2.0",
            "_view_name": "LayoutView",
            "align_content": null,
            "align_items": null,
            "align_self": null,
            "border": null,
            "bottom": null,
            "display": null,
            "flex": null,
            "flex_flow": null,
            "grid_area": null,
            "grid_auto_columns": null,
            "grid_auto_flow": null,
            "grid_auto_rows": null,
            "grid_column": null,
            "grid_gap": null,
            "grid_row": null,
            "grid_template_areas": null,
            "grid_template_columns": null,
            "grid_template_rows": null,
            "height": null,
            "justify_content": null,
            "justify_items": null,
            "left": null,
            "margin": null,
            "max_height": null,
            "max_width": null,
            "min_height": null,
            "min_width": null,
            "object_fit": null,
            "object_position": null,
            "order": null,
            "overflow": null,
            "overflow_x": null,
            "overflow_y": null,
            "padding": null,
            "right": null,
            "top": null,
            "visibility": null,
            "width": null
          }
        },
        "f406999da3474cd2bb0cc4a3ff946d9f": {
          "model_module": "@jupyter-widgets/controls",
          "model_name": "DescriptionStyleModel",
          "model_module_version": "1.5.0",
          "state": {
            "_model_module": "@jupyter-widgets/controls",
            "_model_module_version": "1.5.0",
            "_model_name": "DescriptionStyleModel",
            "_view_count": null,
            "_view_module": "@jupyter-widgets/base",
            "_view_module_version": "1.2.0",
            "_view_name": "StyleView",
            "description_width": ""
          }
        },
        "863db9e08d594069afc558e312da2f72": {
          "model_module": "@jupyter-widgets/base",
          "model_name": "LayoutModel",
          "model_module_version": "1.2.0",
          "state": {
            "_model_module": "@jupyter-widgets/base",
            "_model_module_version": "1.2.0",
            "_model_name": "LayoutModel",
            "_view_count": null,
            "_view_module": "@jupyter-widgets/base",
            "_view_module_version": "1.2.0",
            "_view_name": "LayoutView",
            "align_content": null,
            "align_items": null,
            "align_self": null,
            "border": null,
            "bottom": null,
            "display": null,
            "flex": null,
            "flex_flow": null,
            "grid_area": null,
            "grid_auto_columns": null,
            "grid_auto_flow": null,
            "grid_auto_rows": null,
            "grid_column": null,
            "grid_gap": null,
            "grid_row": null,
            "grid_template_areas": null,
            "grid_template_columns": null,
            "grid_template_rows": null,
            "height": null,
            "justify_content": null,
            "justify_items": null,
            "left": null,
            "margin": null,
            "max_height": null,
            "max_width": null,
            "min_height": null,
            "min_width": null,
            "object_fit": null,
            "object_position": null,
            "order": null,
            "overflow": null,
            "overflow_x": null,
            "overflow_y": null,
            "padding": null,
            "right": null,
            "top": null,
            "visibility": null,
            "width": null
          }
        },
        "0bace5af6b0449ef895d3a38e85653a8": {
          "model_module": "@jupyter-widgets/controls",
          "model_name": "ProgressStyleModel",
          "model_module_version": "1.5.0",
          "state": {
            "_model_module": "@jupyter-widgets/controls",
            "_model_module_version": "1.5.0",
            "_model_name": "ProgressStyleModel",
            "_view_count": null,
            "_view_module": "@jupyter-widgets/base",
            "_view_module_version": "1.2.0",
            "_view_name": "StyleView",
            "bar_color": null,
            "description_width": ""
          }
        },
        "c9dafaf84db04228abaa496fcb8d0e42": {
          "model_module": "@jupyter-widgets/base",
          "model_name": "LayoutModel",
          "model_module_version": "1.2.0",
          "state": {
            "_model_module": "@jupyter-widgets/base",
            "_model_module_version": "1.2.0",
            "_model_name": "LayoutModel",
            "_view_count": null,
            "_view_module": "@jupyter-widgets/base",
            "_view_module_version": "1.2.0",
            "_view_name": "LayoutView",
            "align_content": null,
            "align_items": null,
            "align_self": null,
            "border": null,
            "bottom": null,
            "display": null,
            "flex": null,
            "flex_flow": null,
            "grid_area": null,
            "grid_auto_columns": null,
            "grid_auto_flow": null,
            "grid_auto_rows": null,
            "grid_column": null,
            "grid_gap": null,
            "grid_row": null,
            "grid_template_areas": null,
            "grid_template_columns": null,
            "grid_template_rows": null,
            "height": null,
            "justify_content": null,
            "justify_items": null,
            "left": null,
            "margin": null,
            "max_height": null,
            "max_width": null,
            "min_height": null,
            "min_width": null,
            "object_fit": null,
            "object_position": null,
            "order": null,
            "overflow": null,
            "overflow_x": null,
            "overflow_y": null,
            "padding": null,
            "right": null,
            "top": null,
            "visibility": null,
            "width": null
          }
        },
        "3a5ed14ab31a4a038c56042732d7f93b": {
          "model_module": "@jupyter-widgets/controls",
          "model_name": "DescriptionStyleModel",
          "model_module_version": "1.5.0",
          "state": {
            "_model_module": "@jupyter-widgets/controls",
            "_model_module_version": "1.5.0",
            "_model_name": "DescriptionStyleModel",
            "_view_count": null,
            "_view_module": "@jupyter-widgets/base",
            "_view_module_version": "1.2.0",
            "_view_name": "StyleView",
            "description_width": ""
          }
        }
      }
    }
  },
  "cells": [
    {
      "cell_type": "markdown",
      "metadata": {
        "id": "view-in-github",
        "colab_type": "text"
      },
      "source": [
        "<a href=\"https://colab.research.google.com/github/brea-koenes/app/blob/main/ProductOutageClassifier.ipynb\" target=\"_parent\"><img src=\"https://colab.research.google.com/assets/colab-badge.svg\" alt=\"Open In Colab\"/></a>"
      ]
    },
    {
      "cell_type": "markdown",
      "source": [
        "# Product Outage Classifier\n",
        "\n",
        "\n",
        "#### Machine Learning Capstone Project\n",
        "\n",
        "\n",
        "#### **Author:** Brea Koenes\n",
        "\n",
        "\n",
        "#### **Date:** August 2025"
      ],
      "metadata": {
        "id": "6nbKJprUPFUz"
      }
    },
    {
      "cell_type": "markdown",
      "source": [
        "### 1 - Objective\n",
        "---\n",
        "My project is to develop a model that identifies Starbucks customer text mentioning product outages. The intent is to improve Starbucks' understanding of their product outages through customer sentiment data."
      ],
      "metadata": {
        "id": "m7a6OWsCPFXg"
      }
    },
    {
      "cell_type": "markdown",
      "source": [
        "### 2 - Import Data\n",
        "---\n",
        "There are 2 datasets:\n",
        "\n",
        "1. **Facebook**: comments about Starbucks from Facebook and Instagram apps\n",
        "2. **Uber**: reviews on Uber Eats Starbucks orders"
      ],
      "metadata": {
        "id": "W8hZJH9fPFZ8"
      }
    },
    {
      "cell_type": "markdown",
      "source": [
        "**Import libraries and data**"
      ],
      "metadata": {
        "id": "9aRQL2vQR0WC"
      }
    },
    {
      "cell_type": "code",
      "source": [
        "# Common imports\n",
        "import os\n",
        "import re\n",
        "import nltk\n",
        "import torch\n",
        "import string\n",
        "import numpy as np\n",
        "import pandas as pd\n",
        "from google.colab import drive\n",
        "\n",
        "# Connect to Google Drive\n",
        "drive.mount('/content/drive')"
      ],
      "metadata": {
        "id": "sbtqbK3-PLtb",
        "outputId": "5078f546-121d-4b36-fb9f-1554f6e890a0",
        "colab": {
          "base_uri": "https://localhost:8080/"
        }
      },
      "execution_count": null,
      "outputs": [
        {
          "output_type": "stream",
          "name": "stdout",
          "text": [
            "Drive already mounted at /content/drive; to attempt to forcibly remount, call drive.mount(\"/content/drive\", force_remount=True).\n"
          ]
        }
      ]
    },
    {
      "cell_type": "code",
      "source": [
        "# Import data\n",
        "path = '/content/drive/My Drive/Data/'\n",
        "facebook = pd.read_csv(path+'Facebook.csv')\n",
        "uber = pd.read_csv(path+'UberEats.csv')"
      ],
      "metadata": {
        "id": "FzXL1X5lPNw9"
      },
      "execution_count": null,
      "outputs": []
    },
    {
      "cell_type": "markdown",
      "source": [
        "### 3 - Exploratory Data Analysis\n",
        "\n",
        "\n",
        "---\n",
        "\n",
        "Based on a manual review of the datasets, about 1.5% of customer text, also referred to as posts, are about product outages.\n",
        "\n",
        "The datasets' posts are futher analyzed on:\n",
        "\n",
        "*   Row count\n",
        "*   Nulls\n",
        "*   Duplicates\n",
        "*   Max character count\n",
        "\n",
        "\n",
        "\n"
      ],
      "metadata": {
        "id": "emEU3DpD8ZSF"
      }
    },
    {
      "cell_type": "markdown",
      "source": [
        "**Display data**"
      ],
      "metadata": {
        "id": "8NAzLtxNR34n"
      }
    },
    {
      "cell_type": "code",
      "source": [
        "from IPython.display import Markdown, display\n",
        "\n",
        "# Display one sample post from Facebook\n",
        "display(Markdown(\" ##### Facebook Sample Post\"))\n",
        "display(Markdown(f\"> {facebook['Text'].dropna().sample(1).iloc[0]}\"))\n",
        "\n",
        "# Display one sample post from Uber Eats\n",
        "display(Markdown(\" ##### Uber Eats Sample Post\"))\n",
        "display(Markdown(f\"> {uber['Text'].dropna().sample(1).iloc[0]}\"))"
      ],
      "metadata": {
        "id": "OffRBNwbMpW8",
        "colab": {
          "base_uri": "https://localhost:8080/",
          "height": 161
        },
        "outputId": "21c9c9a4-f362-4e9a-fb22-ae1003d991ed"
      },
      "execution_count": null,
      "outputs": [
        {
          "output_type": "display_data",
          "data": {
            "text/plain": [
              "<IPython.core.display.Markdown object>"
            ],
            "text/markdown": " ##### Facebook Sample Post"
          },
          "metadata": {}
        },
        {
          "output_type": "display_data",
          "data": {
            "text/plain": [
              "<IPython.core.display.Markdown object>"
            ],
            "text/markdown": "> Alexandra Nguyen join now https://facebook.com/groups/################/"
          },
          "metadata": {}
        },
        {
          "output_type": "display_data",
          "data": {
            "text/plain": [
              "<IPython.core.display.Markdown object>"
            ],
            "text/markdown": " ##### Uber Eats Sample Post"
          },
          "metadata": {}
        },
        {
          "output_type": "display_data",
          "data": {
            "text/plain": [
              "<IPython.core.display.Markdown object>"
            ],
            "text/markdown": "> did not get this item"
          },
          "metadata": {}
        }
      ]
    },
    {
      "cell_type": "markdown",
      "source": [
        "**Summary statistics**"
      ],
      "metadata": {
        "id": "P7MTdsVQR7v8"
      }
    },
    {
      "cell_type": "code",
      "source": [
        "# Add new columns to ensure correct labels\n",
        "facebook['source'] = 'Facebook'\n",
        "uber['source'] = 'Uber Eats'\n",
        "\n",
        "# Combine datasets\n",
        "combined_df = pd.concat([facebook, uber], ignore_index = True)\n",
        "summary_data_combined = []"
      ],
      "metadata": {
        "id": "ZCjKo_El2DQi"
      },
      "execution_count": null,
      "outputs": []
    },
    {
      "cell_type": "code",
      "source": [
        "# Output summary statistics for each source\n",
        "for source_name in combined_df['source'].unique():\n",
        "\n",
        "    # Define and calculate information displayed\n",
        "    df = combined_df[combined_df['source'] == source_name]\n",
        "    char_count = df['Text'].astype(str).apply(len)\n",
        "    null_count = df['Text'].isnull().sum()\n",
        "    duplicate_count = df['Text'].duplicated().sum()\n",
        "\n",
        "    summary_data_combined.append({\n",
        "        'Source': source_name,\n",
        "        'Rows': len(df),\n",
        "        'Duplicates': duplicate_count,\n",
        "        'Nulls': null_count,\n",
        "        'Max Char. Count': char_count.max(),\n",
        "    })\n",
        "\n",
        "# Display statistics\n",
        "summary_df_combined = pd.DataFrame(summary_data_combined)\n",
        "display(summary_df_combined)"
      ],
      "metadata": {
        "id": "pC4RanN737Eg",
        "colab": {
          "base_uri": "https://localhost:8080/",
          "height": 125
        },
        "outputId": "9989396f-c9c0-4479-ba22-46d8b7aa6cf1"
      },
      "execution_count": null,
      "outputs": [
        {
          "output_type": "display_data",
          "data": {
            "text/plain": [
              "      Source   Rows  Duplicates  Nulls  Max Char. Count\n",
              "0   Facebook  76037        1790      0            10510\n",
              "1  Uber Eats  84055       22091    114             5776"
            ],
            "text/html": [
              "\n",
              "  <div id=\"df-6e766e4a-6b38-451c-97ae-3747a99730c5\" class=\"colab-df-container\">\n",
              "    <div>\n",
              "<style scoped>\n",
              "    .dataframe tbody tr th:only-of-type {\n",
              "        vertical-align: middle;\n",
              "    }\n",
              "\n",
              "    .dataframe tbody tr th {\n",
              "        vertical-align: top;\n",
              "    }\n",
              "\n",
              "    .dataframe thead th {\n",
              "        text-align: right;\n",
              "    }\n",
              "</style>\n",
              "<table border=\"1\" class=\"dataframe\">\n",
              "  <thead>\n",
              "    <tr style=\"text-align: right;\">\n",
              "      <th></th>\n",
              "      <th>Source</th>\n",
              "      <th>Rows</th>\n",
              "      <th>Duplicates</th>\n",
              "      <th>Nulls</th>\n",
              "      <th>Max Char. Count</th>\n",
              "    </tr>\n",
              "  </thead>\n",
              "  <tbody>\n",
              "    <tr>\n",
              "      <th>0</th>\n",
              "      <td>Facebook</td>\n",
              "      <td>76037</td>\n",
              "      <td>1790</td>\n",
              "      <td>0</td>\n",
              "      <td>10510</td>\n",
              "    </tr>\n",
              "    <tr>\n",
              "      <th>1</th>\n",
              "      <td>Uber Eats</td>\n",
              "      <td>84055</td>\n",
              "      <td>22091</td>\n",
              "      <td>114</td>\n",
              "      <td>5776</td>\n",
              "    </tr>\n",
              "  </tbody>\n",
              "</table>\n",
              "</div>\n",
              "    <div class=\"colab-df-buttons\">\n",
              "\n",
              "  <div class=\"colab-df-container\">\n",
              "    <button class=\"colab-df-convert\" onclick=\"convertToInteractive('df-6e766e4a-6b38-451c-97ae-3747a99730c5')\"\n",
              "            title=\"Convert this dataframe to an interactive table.\"\n",
              "            style=\"display:none;\">\n",
              "\n",
              "  <svg xmlns=\"http://www.w3.org/2000/svg\" height=\"24px\" viewBox=\"0 -960 960 960\">\n",
              "    <path d=\"M120-120v-720h720v720H120Zm60-500h600v-160H180v160Zm220 220h160v-160H400v160Zm0 220h160v-160H400v160ZM180-400h160v-160H180v160Zm440 0h160v-160H620v160ZM180-180h160v-160H180v160Zm440 0h160v-160H620v160Z\"/>\n",
              "  </svg>\n",
              "    </button>\n",
              "\n",
              "  <style>\n",
              "    .colab-df-container {\n",
              "      display:flex;\n",
              "      gap: 12px;\n",
              "    }\n",
              "\n",
              "    .colab-df-convert {\n",
              "      background-color: #E8F0FE;\n",
              "      border: none;\n",
              "      border-radius: 50%;\n",
              "      cursor: pointer;\n",
              "      display: none;\n",
              "      fill: #1967D2;\n",
              "      height: 32px;\n",
              "      padding: 0 0 0 0;\n",
              "      width: 32px;\n",
              "    }\n",
              "\n",
              "    .colab-df-convert:hover {\n",
              "      background-color: #E2EBFA;\n",
              "      box-shadow: 0px 1px 2px rgba(60, 64, 67, 0.3), 0px 1px 3px 1px rgba(60, 64, 67, 0.15);\n",
              "      fill: #174EA6;\n",
              "    }\n",
              "\n",
              "    .colab-df-buttons div {\n",
              "      margin-bottom: 4px;\n",
              "    }\n",
              "\n",
              "    [theme=dark] .colab-df-convert {\n",
              "      background-color: #3B4455;\n",
              "      fill: #D2E3FC;\n",
              "    }\n",
              "\n",
              "    [theme=dark] .colab-df-convert:hover {\n",
              "      background-color: #434B5C;\n",
              "      box-shadow: 0px 1px 3px 1px rgba(0, 0, 0, 0.15);\n",
              "      filter: drop-shadow(0px 1px 2px rgba(0, 0, 0, 0.3));\n",
              "      fill: #FFFFFF;\n",
              "    }\n",
              "  </style>\n",
              "\n",
              "    <script>\n",
              "      const buttonEl =\n",
              "        document.querySelector('#df-6e766e4a-6b38-451c-97ae-3747a99730c5 button.colab-df-convert');\n",
              "      buttonEl.style.display =\n",
              "        google.colab.kernel.accessAllowed ? 'block' : 'none';\n",
              "\n",
              "      async function convertToInteractive(key) {\n",
              "        const element = document.querySelector('#df-6e766e4a-6b38-451c-97ae-3747a99730c5');\n",
              "        const dataTable =\n",
              "          await google.colab.kernel.invokeFunction('convertToInteractive',\n",
              "                                                    [key], {});\n",
              "        if (!dataTable) return;\n",
              "\n",
              "        const docLinkHtml = 'Like what you see? Visit the ' +\n",
              "          '<a target=\"_blank\" href=https://colab.research.google.com/notebooks/data_table.ipynb>data table notebook</a>'\n",
              "          + ' to learn more about interactive tables.';\n",
              "        element.innerHTML = '';\n",
              "        dataTable['output_type'] = 'display_data';\n",
              "        await google.colab.output.renderOutput(dataTable, element);\n",
              "        const docLink = document.createElement('div');\n",
              "        docLink.innerHTML = docLinkHtml;\n",
              "        element.appendChild(docLink);\n",
              "      }\n",
              "    </script>\n",
              "  </div>\n",
              "\n",
              "\n",
              "    <div id=\"df-f56028bc-5498-40a6-bf97-d90b7f238050\">\n",
              "      <button class=\"colab-df-quickchart\" onclick=\"quickchart('df-f56028bc-5498-40a6-bf97-d90b7f238050')\"\n",
              "                title=\"Suggest charts\"\n",
              "                style=\"display:none;\">\n",
              "\n",
              "<svg xmlns=\"http://www.w3.org/2000/svg\" height=\"24px\"viewBox=\"0 0 24 24\"\n",
              "     width=\"24px\">\n",
              "    <g>\n",
              "        <path d=\"M19 3H5c-1.1 0-2 .9-2 2v14c0 1.1.9 2 2 2h14c1.1 0 2-.9 2-2V5c0-1.1-.9-2-2-2zM9 17H7v-7h2v7zm4 0h-2V7h2v10zm4 0h-2v-4h2v4z\"/>\n",
              "    </g>\n",
              "</svg>\n",
              "      </button>\n",
              "\n",
              "<style>\n",
              "  .colab-df-quickchart {\n",
              "      --bg-color: #E8F0FE;\n",
              "      --fill-color: #1967D2;\n",
              "      --hover-bg-color: #E2EBFA;\n",
              "      --hover-fill-color: #174EA6;\n",
              "      --disabled-fill-color: #AAA;\n",
              "      --disabled-bg-color: #DDD;\n",
              "  }\n",
              "\n",
              "  [theme=dark] .colab-df-quickchart {\n",
              "      --bg-color: #3B4455;\n",
              "      --fill-color: #D2E3FC;\n",
              "      --hover-bg-color: #434B5C;\n",
              "      --hover-fill-color: #FFFFFF;\n",
              "      --disabled-bg-color: #3B4455;\n",
              "      --disabled-fill-color: #666;\n",
              "  }\n",
              "\n",
              "  .colab-df-quickchart {\n",
              "    background-color: var(--bg-color);\n",
              "    border: none;\n",
              "    border-radius: 50%;\n",
              "    cursor: pointer;\n",
              "    display: none;\n",
              "    fill: var(--fill-color);\n",
              "    height: 32px;\n",
              "    padding: 0;\n",
              "    width: 32px;\n",
              "  }\n",
              "\n",
              "  .colab-df-quickchart:hover {\n",
              "    background-color: var(--hover-bg-color);\n",
              "    box-shadow: 0 1px 2px rgba(60, 64, 67, 0.3), 0 1px 3px 1px rgba(60, 64, 67, 0.15);\n",
              "    fill: var(--button-hover-fill-color);\n",
              "  }\n",
              "\n",
              "  .colab-df-quickchart-complete:disabled,\n",
              "  .colab-df-quickchart-complete:disabled:hover {\n",
              "    background-color: var(--disabled-bg-color);\n",
              "    fill: var(--disabled-fill-color);\n",
              "    box-shadow: none;\n",
              "  }\n",
              "\n",
              "  .colab-df-spinner {\n",
              "    border: 2px solid var(--fill-color);\n",
              "    border-color: transparent;\n",
              "    border-bottom-color: var(--fill-color);\n",
              "    animation:\n",
              "      spin 1s steps(1) infinite;\n",
              "  }\n",
              "\n",
              "  @keyframes spin {\n",
              "    0% {\n",
              "      border-color: transparent;\n",
              "      border-bottom-color: var(--fill-color);\n",
              "      border-left-color: var(--fill-color);\n",
              "    }\n",
              "    20% {\n",
              "      border-color: transparent;\n",
              "      border-left-color: var(--fill-color);\n",
              "      border-top-color: var(--fill-color);\n",
              "    }\n",
              "    30% {\n",
              "      border-color: transparent;\n",
              "      border-left-color: var(--fill-color);\n",
              "      border-top-color: var(--fill-color);\n",
              "      border-right-color: var(--fill-color);\n",
              "    }\n",
              "    40% {\n",
              "      border-color: transparent;\n",
              "      border-right-color: var(--fill-color);\n",
              "      border-top-color: var(--fill-color);\n",
              "    }\n",
              "    60% {\n",
              "      border-color: transparent;\n",
              "      border-right-color: var(--fill-color);\n",
              "    }\n",
              "    80% {\n",
              "      border-color: transparent;\n",
              "      border-right-color: var(--fill-color);\n",
              "      border-bottom-color: var(--fill-color);\n",
              "    }\n",
              "    90% {\n",
              "      border-color: transparent;\n",
              "      border-bottom-color: var(--fill-color);\n",
              "    }\n",
              "  }\n",
              "</style>\n",
              "\n",
              "      <script>\n",
              "        async function quickchart(key) {\n",
              "          const quickchartButtonEl =\n",
              "            document.querySelector('#' + key + ' button');\n",
              "          quickchartButtonEl.disabled = true;  // To prevent multiple clicks.\n",
              "          quickchartButtonEl.classList.add('colab-df-spinner');\n",
              "          try {\n",
              "            const charts = await google.colab.kernel.invokeFunction(\n",
              "                'suggestCharts', [key], {});\n",
              "          } catch (error) {\n",
              "            console.error('Error during call to suggestCharts:', error);\n",
              "          }\n",
              "          quickchartButtonEl.classList.remove('colab-df-spinner');\n",
              "          quickchartButtonEl.classList.add('colab-df-quickchart-complete');\n",
              "        }\n",
              "        (() => {\n",
              "          let quickchartButtonEl =\n",
              "            document.querySelector('#df-f56028bc-5498-40a6-bf97-d90b7f238050 button');\n",
              "          quickchartButtonEl.style.display =\n",
              "            google.colab.kernel.accessAllowed ? 'block' : 'none';\n",
              "        })();\n",
              "      </script>\n",
              "    </div>\n",
              "\n",
              "  <div id=\"id_aa21844b-00b0-4fd2-8469-7bdbb5208961\">\n",
              "    <style>\n",
              "      .colab-df-generate {\n",
              "        background-color: #E8F0FE;\n",
              "        border: none;\n",
              "        border-radius: 50%;\n",
              "        cursor: pointer;\n",
              "        display: none;\n",
              "        fill: #1967D2;\n",
              "        height: 32px;\n",
              "        padding: 0 0 0 0;\n",
              "        width: 32px;\n",
              "      }\n",
              "\n",
              "      .colab-df-generate:hover {\n",
              "        background-color: #E2EBFA;\n",
              "        box-shadow: 0px 1px 2px rgba(60, 64, 67, 0.3), 0px 1px 3px 1px rgba(60, 64, 67, 0.15);\n",
              "        fill: #174EA6;\n",
              "      }\n",
              "\n",
              "      [theme=dark] .colab-df-generate {\n",
              "        background-color: #3B4455;\n",
              "        fill: #D2E3FC;\n",
              "      }\n",
              "\n",
              "      [theme=dark] .colab-df-generate:hover {\n",
              "        background-color: #434B5C;\n",
              "        box-shadow: 0px 1px 3px 1px rgba(0, 0, 0, 0.15);\n",
              "        filter: drop-shadow(0px 1px 2px rgba(0, 0, 0, 0.3));\n",
              "        fill: #FFFFFF;\n",
              "      }\n",
              "    </style>\n",
              "    <button class=\"colab-df-generate\" onclick=\"generateWithVariable('summary_df_combined')\"\n",
              "            title=\"Generate code using this dataframe.\"\n",
              "            style=\"display:none;\">\n",
              "\n",
              "  <svg xmlns=\"http://www.w3.org/2000/svg\" height=\"24px\"viewBox=\"0 0 24 24\"\n",
              "       width=\"24px\">\n",
              "    <path d=\"M7,19H8.4L18.45,9,17,7.55,7,17.6ZM5,21V16.75L18.45,3.32a2,2,0,0,1,2.83,0l1.4,1.43a1.91,1.91,0,0,1,.58,1.4,1.91,1.91,0,0,1-.58,1.4L9.25,21ZM18.45,9,17,7.55Zm-12,3A5.31,5.31,0,0,0,4.9,8.1,5.31,5.31,0,0,0,1,6.5,5.31,5.31,0,0,0,4.9,4.9,5.31,5.31,0,0,0,6.5,1,5.31,5.31,0,0,0,8.1,4.9,5.31,5.31,0,0,0,12,6.5,5.46,5.46,0,0,0,6.5,12Z\"/>\n",
              "  </svg>\n",
              "    </button>\n",
              "    <script>\n",
              "      (() => {\n",
              "      const buttonEl =\n",
              "        document.querySelector('#id_aa21844b-00b0-4fd2-8469-7bdbb5208961 button.colab-df-generate');\n",
              "      buttonEl.style.display =\n",
              "        google.colab.kernel.accessAllowed ? 'block' : 'none';\n",
              "\n",
              "      buttonEl.onclick = () => {\n",
              "        google.colab.notebook.generateWithVariable('summary_df_combined');\n",
              "      }\n",
              "      })();\n",
              "    </script>\n",
              "  </div>\n",
              "\n",
              "    </div>\n",
              "  </div>\n"
            ],
            "application/vnd.google.colaboratory.intrinsic+json": {
              "type": "dataframe",
              "variable_name": "summary_df_combined",
              "summary": "{\n  \"name\": \"summary_df_combined\",\n  \"rows\": 2,\n  \"fields\": [\n    {\n      \"column\": \"Source\",\n      \"properties\": {\n        \"dtype\": \"string\",\n        \"num_unique_values\": 2,\n        \"samples\": [\n          \"Uber Eats\",\n          \"Facebook\"\n        ],\n        \"semantic_type\": \"\",\n        \"description\": \"\"\n      }\n    },\n    {\n      \"column\": \"Rows\",\n      \"properties\": {\n        \"dtype\": \"number\",\n        \"std\": 5669,\n        \"min\": 76037,\n        \"max\": 84055,\n        \"num_unique_values\": 2,\n        \"samples\": [\n          84055,\n          76037\n        ],\n        \"semantic_type\": \"\",\n        \"description\": \"\"\n      }\n    },\n    {\n      \"column\": \"Duplicates\",\n      \"properties\": {\n        \"dtype\": \"number\",\n        \"std\": 14354,\n        \"min\": 1790,\n        \"max\": 22091,\n        \"num_unique_values\": 2,\n        \"samples\": [\n          22091,\n          1790\n        ],\n        \"semantic_type\": \"\",\n        \"description\": \"\"\n      }\n    },\n    {\n      \"column\": \"Nulls\",\n      \"properties\": {\n        \"dtype\": \"number\",\n        \"std\": 80,\n        \"min\": 0,\n        \"max\": 114,\n        \"num_unique_values\": 2,\n        \"samples\": [\n          114,\n          0\n        ],\n        \"semantic_type\": \"\",\n        \"description\": \"\"\n      }\n    },\n    {\n      \"column\": \"Max Char. Count\",\n      \"properties\": {\n        \"dtype\": \"number\",\n        \"std\": 3347,\n        \"min\": 5776,\n        \"max\": 10510,\n        \"num_unique_values\": 2,\n        \"samples\": [\n          5776,\n          10510\n        ],\n        \"semantic_type\": \"\",\n        \"description\": \"\"\n      }\n    }\n  ]\n}"
            }
          },
          "metadata": {}
        }
      ]
    },
    {
      "cell_type": "markdown",
      "source": [
        "The 2 datasets have similar row counts. There are many duplicate rows in the Uber Eats dataset. There are also nulls in the Uber Eats dataset. Facebook tends to have longer posts."
      ],
      "metadata": {
        "id": "vRI0oj7dcrVa"
      }
    },
    {
      "cell_type": "markdown",
      "source": [
        "**Visualizations**"
      ],
      "metadata": {
        "id": "h633vpTSR_n3"
      }
    },
    {
      "cell_type": "code",
      "source": [
        "import seaborn as sns\n",
        "import matplotlib.pyplot as plt\n",
        "\n",
        "# Count posts per source\n",
        "source_counts = combined_df['source'].value_counts().reset_index()\n",
        "\n",
        "# Plot number of posts per source\n",
        "plt.figure(figsize=(8,5))\n",
        "sns.countplot(data=combined_df, x='source')\n",
        "plt.title('Number of Posts By Source')\n",
        "plt.xlabel('Source')\n",
        "plt.ylabel('Posts')\n",
        "plt.tight_layout()\n",
        "plt.show()"
      ],
      "metadata": {
        "id": "VP98rfuJQPrj",
        "colab": {
          "base_uri": "https://localhost:8080/",
          "height": 507
        },
        "outputId": "8d3898bc-d039-4c92-dff0-08b532d1cf74"
      },
      "execution_count": null,
      "outputs": [
        {
          "output_type": "display_data",
          "data": {
            "text/plain": [
              "<Figure size 800x500 with 1 Axes>"
            ],
            "image/png": "[encoded data removed]"
          },
          "metadata": {}
        }
      ]
    },
    {
      "cell_type": "markdown",
      "source": [
        "Number of posts per dataset is quite similar, with slightly more data from the Uber Eats source."
      ],
      "metadata": {
        "id": "_XSgpJFDc6VD"
      }
    },
    {
      "cell_type": "code",
      "source": [
        "# Calculate character count of posts\n",
        "combined_df['char_count'] = combined_df['Text'].astype(str).apply(len)\n",
        "\n",
        "# Boxplot of post length by souce\n",
        "plt.figure(figsize=(10,6))\n",
        "sns.boxplot(data=combined_df, x='source', y='char_count')\n",
        "plt.title('Post Length Distribution by Source')\n",
        "plt.ylabel('Characters')\n",
        "plt.xlabel('Source')\n",
        "plt.tight_layout()"
      ],
      "metadata": {
        "id": "TNr1V1HsQRez",
        "colab": {
          "base_uri": "https://localhost:8080/",
          "height": 607
        },
        "outputId": "08d46af8-a429-4932-b42c-8d33fd52caf1"
      },
      "execution_count": null,
      "outputs": [
        {
          "output_type": "display_data",
          "data": {
            "text/plain": [
              "<Figure size 1000x600 with 1 Axes>"
            ],
            "image/png": "[encoded data removed]"
          },
          "metadata": {}
        }
      ]
    },
    {
      "cell_type": "markdown",
      "source": [
        "Facebook's post length has longerer posts, but both have several substantially long posts."
      ],
      "metadata": {
        "id": "U0hWW7MtdCeG"
      }
    },
    {
      "cell_type": "markdown",
      "source": [
        "### 4 - Data Preparation and Cleaning\n",
        "\n",
        "---\n",
        "\n",
        "Based on the data exploration, the following is needed:\n",
        "\n",
        "*   Basic cleaning\n",
        "*   Sampling for training and test sets\n",
        "*   Manual labeling"
      ],
      "metadata": {
        "id": "rXA3_wGqQUq9"
      }
    },
    {
      "cell_type": "markdown",
      "source": [
        "**Basic cleaning**"
      ],
      "metadata": {
        "id": "8nF9-wb_SD2d"
      }
    },
    {
      "cell_type": "code",
      "source": [
        "# Drop NAs and duplicates in posts\n",
        "combined_df = combined_df.dropna(subset=['Text']).drop_duplicates(subset='Text')\n",
        "\n",
        "# Trim post length\n",
        "combined_df['Text'] = combined_df['Text'].apply(lambda x: x[:1000])"
      ],
      "metadata": {
        "id": "Yv_GLuZcQTGK"
      },
      "execution_count": null,
      "outputs": []
    },
    {
      "cell_type": "markdown",
      "source": [
        "NAs and duplicates are dropped from both sets. Lengthy posts are trimmed."
      ],
      "metadata": {
        "id": "UOemR8IJ9tFx"
      }
    },
    {
      "cell_type": "markdown",
      "source": [
        "**Sample into test and training sets**"
      ],
      "metadata": {
        "id": "Wg5UMDSgSHhb"
      }
    },
    {
      "cell_type": "code",
      "source": [
        "# Define product outage-related keywords\n",
        "keywords = [\n",
        "    \"unavailable\", \"not available\", \"out of stock\", \"out of\", \"problem\", \"never have\",\n",
        "    \"didn't have\", \"run out\", \"ran out\", \"sold out\", \"restock\"\n",
        "]\n",
        "\n",
        "# Lowercase for keyword matching\n",
        "combined_df['text_lower'] = combined_df['Text'].fillna('').str.lower()\n",
        "\n",
        "# Flag rows with any keyword\n",
        "pattern = '|'.join(keywords)\n",
        "combined_df['is_keyword_hit'] = combined_df['text_lower'].str.contains(pattern, na=False)\n",
        "\n",
        "# Define parameters\n",
        "posts_per_source = 2000          # 2000 posts per source\n",
        "train_fraction = 0.8             # 80% train, 20% test split\n",
        "train_outage_fraction = 0.4      # 40% outage keyword posts in training set\n",
        "\n",
        "train_samples = []\n",
        "test_samples = []\n",
        "\n",
        "# For each source, sample into training and test sets\n",
        "for source, group in combined_df.groupby('source'):\n",
        "\n",
        "    # Preserve original index for tracking\n",
        "    group = group.reset_index()\n",
        "\n",
        "    # Set number of posts for training and test\n",
        "    n_train = int(posts_per_source * train_fraction)\n",
        "    n_test = posts_per_source - n_train\n",
        "\n",
        "    # Split keyword hits and non-hits\n",
        "    keyword_hits = group[group['is_keyword_hit']].reset_index(drop=True)\n",
        "    non_keyword_hits = group[~group['is_keyword_hit']].reset_index(drop=True)\n",
        "\n",
        "    # Sample test set first to ensure it is distinct\n",
        "    test_sample = group.sample(n=n_test, random_state=42)\n",
        "    test_indices = test_sample['index'].values\n",
        "\n",
        "    # Exclude test indices from the group for training\n",
        "    train_pool = group[~group['index'].isin(test_indices)]\n",
        "\n",
        "    # Split train pool into keyword hits and non-hits\n",
        "    train_keyword_hits = train_pool[train_pool['is_keyword_hit']]\n",
        "    train_non_keyword_hits = train_pool[~train_pool['is_keyword_hit']]\n",
        "\n",
        "    n_outage_train = int(n_train * train_outage_fraction)\n",
        "    n_non_outage_train = n_train - n_outage_train\n",
        "\n",
        "    # Sample outage-like posts for training\n",
        "    if len(train_keyword_hits) < n_outage_train:\n",
        "        outage_train_sample = train_keyword_hits.copy()\n",
        "        # Adjust non-outage sample size accordingly\n",
        "        n_non_outage_train = n_train - len(outage_train_sample)\n",
        "        non_outage_train_sample = train_non_keyword_hits.sample(n=n_non_outage_train, random_state=42)\n",
        "    else:\n",
        "        outage_train_sample = train_keyword_hits.sample(n=n_outage_train, random_state=42) # Outage posts\n",
        "        non_outage_train_sample = train_non_keyword_hits.sample(n=n_non_outage_train, random_state=42) # Non-outage posts\n",
        "\n",
        "    # Combine and shuffle training samples\n",
        "    train_sample = pd.concat([outage_train_sample, non_outage_train_sample]).sample(frac=1, random_state=42)\n",
        "    train_samples.append(train_sample)\n",
        "    test_samples.append(test_sample)\n",
        "\n",
        "# Combine all sources\n",
        "train_df = pd.concat(train_samples).reset_index(drop=False).rename(columns={'index': 'original_index'}) # Keep original index\n",
        "test_df = pd.concat(test_samples).reset_index(drop=False).rename(columns={'index': 'original_index'}) # Keep original index\n",
        "\n",
        "# Drop helper columns before manual labeling\n",
        "train_df = train_df.drop(columns=['text_lower', 'is_keyword_hit'])\n",
        "test_df = test_df.drop(columns=['text_lower', 'is_keyword_hit'])\n",
        "\n",
        "# Add empty manual label columns\n",
        "train_df['Label'] = ''\n",
        "test_df['Label'] = ''\n",
        "\n",
        "cols_to_export = ['Text', 'Label', 'original_index'] # Include original_index for tracking\n",
        "\n",
        "# Save files for manual labeling\n",
        "drive_path = '/content/drive/My Drive/'\n",
        "os.makedirs(drive_path, exist_ok=True)\n",
        "\n",
        "train_df.to_excel(drive_path + 'manual_label_train.xlsx', index=False, columns=cols_to_export)\n",
        "test_df.to_excel(drive_path + 'manual_label_test.xlsx', index=False, columns=cols_to_export)\n",
        "\n",
        "# Print rows for validation\n",
        "print(f\"Training set rows: {len(train_df)}\")\n",
        "print(f\"Test set rows: {len(test_df)}\")"
      ],
      "metadata": {
        "id": "az4WDjosQWd3",
        "colab": {
          "base_uri": "https://localhost:8080/"
        },
        "outputId": "72586dd6-9145-40dc-97b7-3ccb53aebaf2"
      },
      "execution_count": null,
      "outputs": [
        {
          "output_type": "stream",
          "name": "stdout",
          "text": [
            "Training set rows: 3200\n",
            "Test set rows: 800\n"
          ]
        }
      ]
    },
    {
      "cell_type": "markdown",
      "source": [
        "The data is sampled and split to be manually labeled. The training set is oversampled with product outage posts since since they are rare. This will give the model enough outage posts to be able to identify them in the test set."
      ],
      "metadata": {
        "id": "yi7I3aHReAZL"
      }
    },
    {
      "cell_type": "markdown",
      "source": [
        "**Read in manually labeled data**"
      ],
      "metadata": {
        "id": "dw26M4aVSNL2"
      }
    },
    {
      "cell_type": "code",
      "source": [
        "# Read in manually labeled datasets\n",
        "path = '/content/drive/My Drive/Labeled_Data/'\n",
        "\n",
        "train = pd.read_excel(path+'labeled_train.xlsx')\n",
        "test = pd.read_excel(path+'labeled_test.xlsx')"
      ],
      "metadata": {
        "id": "t2mMQ-yAQaGz"
      },
      "execution_count": null,
      "outputs": []
    },
    {
      "cell_type": "markdown",
      "source": [
        "The posts are manual labeled as product outage (1) or not product outage (0) with the guidence of domain experts when needed. The labeled sets are read back in."
      ],
      "metadata": {
        "id": "Qp4Pc3j1eZ-8"
      }
    },
    {
      "cell_type": "markdown",
      "source": [
        "### 5 - Feature Engineering\n",
        "\n",
        "\n",
        "---\n",
        "\n"
      ],
      "metadata": {
        "id": "ZZc3sMNIt_Wf"
      }
    },
    {
      "cell_type": "markdown",
      "source": [
        "3 sets of feature representations are created. These will be used to find the optimal representation for our model.\n",
        "\n",
        "1. **TF-IDF:** Represents text based on frequency of words\n",
        "2. **BERT:** Represents text using pre-trained BERT model, capturing contextual relationships\n",
        "3. **Combined:** TF-IDF and BERT combined"
      ],
      "metadata": {
        "id": "coQibpDF9HwI"
      }
    },
    {
      "cell_type": "markdown",
      "source": [
        "**TF-IDF features**"
      ],
      "metadata": {
        "id": "32XkvST3SS5N"
      }
    },
    {
      "cell_type": "code",
      "source": [
        "# Imports for gensim phraser; requires different numpy version\n",
        "!pip uninstall -q numpy\n",
        "!pip install -q gensim"
      ],
      "metadata": {
        "id": "xV535xSf4rTZ",
        "colab": {
          "base_uri": "https://localhost:8080/"
        },
        "outputId": "27236f46-ac5a-4c1f-df77-05dbd3267987"
      },
      "execution_count": null,
      "outputs": [
        {
          "output_type": "stream",
          "name": "stdout",
          "text": [
            "Proceed (Y/n)? Y\n",
            "\u001b[31mERROR: pip's dependency resolver does not currently take into account all the packages that are installed. This behaviour is the source of the following dependency conflicts.\n",
            "opencv-contrib-python 4.12.0.88 requires numpy<2.3.0,>=2; python_version >= \"3.9\", but you have numpy 1.26.4 which is incompatible.\n",
            "tsfresh 0.21.0 requires scipy>=1.14.0; python_version >= \"3.10\", but you have scipy 1.13.1 which is incompatible.\n",
            "opencv-python 4.12.0.88 requires numpy<2.3.0,>=2; python_version >= \"3.9\", but you have numpy 1.26.4 which is incompatible.\n",
            "opencv-python-headless 4.12.0.88 requires numpy<2.3.0,>=2; python_version >= \"3.9\", but you have numpy 1.26.4 which is incompatible.\n",
            "thinc 8.3.6 requires numpy<3.0.0,>=2.0.0, but you have numpy 1.26.4 which is incompatible.\u001b[0m\u001b[31m\n",
            "\u001b[0m"
          ]
        }
      ]
    },
    {
      "cell_type": "code",
      "source": [
        "# Run this cell from earlier in the notebook as runtime will restart\n",
        "import re\n",
        "import string\n",
        "import nltk\n",
        "import torch\n",
        "import numpy as np\n",
        "import pandas as pd\n",
        "from google.colab import drive\n",
        "\n",
        "# Read in manually labeled datasets\n",
        "drive.mount('/content/drive')\n",
        "path = '/content/drive/My Drive/Labeled_Data/'\n",
        "\n",
        "train = pd.read_excel(path+'labeled_train.xlsx')\n",
        "test = pd.read_excel(path+'labeled_test.xlsx')"
      ],
      "metadata": {
        "colab": {
          "base_uri": "https://localhost:8080/"
        },
        "id": "S_I337rzxNlA",
        "outputId": "7b79753b-0070-4817-ccfb-7f51a23d0e3b"
      },
      "execution_count": null,
      "outputs": [
        {
          "output_type": "stream",
          "name": "stdout",
          "text": [
            "Drive already mounted at /content/drive; to attempt to forcibly remount, call drive.mount(\"/content/drive\", force_remount=True).\n"
          ]
        }
      ]
    },
    {
      "cell_type": "code",
      "source": [
        "# Create TF-IDF features\n",
        "import gensim\n",
        "from nltk.corpus import stopwords\n",
        "from nltk.stem import WordNetLemmatizer\n",
        "from nltk.tokenize import word_tokenize\n",
        "from sklearn.feature_extraction.text import TfidfVectorizer\n",
        "from gensim.models.phrases import Phrases, Phraser\n",
        "\n",
        "# Downloads\n",
        "nltk.download('punkt_tab')\n",
        "nltk.download('punkt')\n",
        "nltk.download('wordnet')\n",
        "nltk.download('stopwords')\n",
        "\n",
        "# Define stopwords and lemmatizer\n",
        "stop_words = set(stopwords.words('english'))\n",
        "lemmatizer = WordNetLemmatizer()\n",
        "\n",
        "# Tokenize and Clean\n",
        "def preprocess_text_for_phrasing(text):\n",
        "    text = str(text).lower()                                                               # Lowercase\n",
        "    text = re.sub(r'http\\S+', '', text)                                                    # Remove URLs\n",
        "    text = text.translate(str.maketrans('', '', string.punctuation))                       # Remove punctuation\n",
        "    tokens = word_tokenize(text)                                                           # Tokenize\n",
        "    tokens = [lemmatizer.lemmatize(token) for token in tokens if token not in stop_words]  # Lemmatize and remove stop words\n",
        "    return tokens\n",
        "\n",
        "# Apply preprocessing\n",
        "train_tokens = train['Text'].apply(preprocess_text_for_phrasing)\n",
        "test_tokens = test['Text'].apply(preprocess_text_for_phrasing)\n",
        "\n",
        "# Apply phraser\n",
        "phrases = Phrases(train_tokens,\n",
        "                  min_count=3,    # 3 is min. times phrase must appear\n",
        "                  threshold=2)    # 2 is min. score required for phrases\n",
        "phraser = Phraser(phrases)\n",
        "\n",
        "train_phrased = train_tokens.apply(lambda tokens: phraser[tokens])\n",
        "test_phrased = test_tokens.apply(lambda tokens: phraser[tokens])\n",
        "\n",
        "# Rejoin tokens for TF-IDF\n",
        "train['Text_tfidf'] = train_phrased.apply(lambda tokens: ' '.join(tokens))\n",
        "test['Text_tfidf'] = test_phrased.apply(lambda tokens: ' '.join(tokens))\n",
        "\n",
        "# TF-IDF vecotrization\n",
        "tfidf_vectorizer = TfidfVectorizer(max_features=2700,            # Limit to 2700 terms\n",
        "                                   min_df=2,                     # Exclude if in fewer than 2\n",
        "                                   max_df=0.85,                  # Exclude if in over 85%\n",
        "                                   ngram_range=(1, 1))           # Set to 1 ngram due to using Gensim Phraser\n",
        "\n",
        "# Fit/transform\n",
        "X_train_tfidf = tfidf_vectorizer.fit_transform(train['Text_tfidf']).toarray()\n",
        "X_test_tfidf = tfidf_vectorizer.transform(test['Text_tfidf']).toarray()\n",
        "\n",
        "# Print shape for validation\n",
        "print(f\"TF-IDF training features shape: {X_train_tfidf.shape}\")\n",
        "print(f\"TF-IDF test features shape: {X_test_tfidf.shape}\")"
      ],
      "metadata": {
        "id": "3EKXyd9tXqkm",
        "colab": {
          "base_uri": "https://localhost:8080/"
        },
        "outputId": "a5809192-8b30-476b-d610-2a7255ed3787"
      },
      "execution_count": null,
      "outputs": [
        {
          "output_type": "stream",
          "name": "stderr",
          "text": [
            "[nltk_data] Downloading package punkt_tab to /root/nltk_data...\n",
            "[nltk_data]   Package punkt_tab is already up-to-date!\n",
            "[nltk_data] Downloading package punkt to /root/nltk_data...\n",
            "[nltk_data]   Package punkt is already up-to-date!\n",
            "[nltk_data] Downloading package wordnet to /root/nltk_data...\n",
            "[nltk_data]   Package wordnet is already up-to-date!\n",
            "[nltk_data] Downloading package stopwords to /root/nltk_data...\n",
            "[nltk_data]   Package stopwords is already up-to-date!\n"
          ]
        },
        {
          "output_type": "stream",
          "name": "stdout",
          "text": [
            "TF-IDF training features shape: (3200, 2651)\n",
            "TF-IDF test features shape: (800, 2651)\n"
          ]
        }
      ]
    },
    {
      "cell_type": "markdown",
      "source": [
        "The text is preprocessed and cleaned of noise. Gensim Phraser is used to capture meaning of phrases, then TF-IDF vectorization is applied."
      ],
      "metadata": {
        "id": "yE_9LPVVcx83"
      }
    },
    {
      "cell_type": "markdown",
      "source": [
        "**BERT embeddings**"
      ],
      "metadata": {
        "id": "nK53pGVASQUh"
      }
    },
    {
      "cell_type": "code",
      "source": [
        "# Create BERT embeddings\n",
        "from tqdm import tqdm\n",
        "from transformers import AutoTokenizer, AutoModel\n",
        "from sklearn.preprocessing import StandardScaler\n",
        "\n",
        "# Remove depreciation notice\n",
        "import warnings\n",
        "warnings.filterwarnings(\"ignore\", message=\".*encoder_attention_mask.*\")\n",
        "\n",
        "# Load pre-trained tokenizer and model\n",
        "tokenizer = AutoTokenizer.from_pretrained('bert-base-uncased')  # Optimal BERT model chosen\n",
        "model = AutoModel.from_pretrained('bert-base-uncased')\n",
        "\n",
        "# Use CPU\n",
        "device = torch.device('cpu')\n",
        "model.to(device)\n",
        "model.eval()\n",
        "\n",
        "# Generate BERT [CLS] embeddings for a list of tests\n",
        "def get_bert_embeddings(texts, batch_size=16, max_length=128):  # Optimal batch size and max length set\n",
        "\n",
        "    # Ensure inputs are in correct format, especially function is deployed\n",
        "    if isinstance(texts, (list, np.ndarray)):\n",
        "        texts = texts\n",
        "    elif hasattr(texts, 'tolist'):\n",
        "        texts = texts.tolist()\n",
        "    else:\n",
        "        raise ValueError(\"Input 'texts' must be a list, numpy array, or pandas Series.\")\n",
        "\n",
        "    all_embeddings = []\n",
        "\n",
        "    # Generate embeddings in batches\n",
        "    for i in tqdm(range(0, len(texts), batch_size), desc=\"Generating BERT embeddings\"):\n",
        "        batch_texts = texts[i:i + batch_size]\n",
        "\n",
        "        # Tokenize and move directly to device\n",
        "        encoded = tokenizer(\n",
        "            batch_texts,\n",
        "            max_length=max_length,\n",
        "            padding='max_length',\n",
        "            truncation=True,\n",
        "            return_tensors='pt'\n",
        "        ).to(device)\n",
        "\n",
        "        with torch.no_grad():\n",
        "            outputs = model(**encoded)  # Pass everything at once\n",
        "            cls_embeddings = outputs.last_hidden_state[:, 0, :]  # Using CLS\n",
        "            all_embeddings.append(cls_embeddings.cpu().numpy())\n",
        "\n",
        "    return np.concatenate(all_embeddings, axis=0) if all_embeddings else np.array([])\n",
        "\n",
        "# Generate embeddings\n",
        "print(\"Generating train embeddings...\")\n",
        "X_train = get_bert_embeddings(train['Text'])\n",
        "\n",
        "print(\"Generating test embeddings...\")\n",
        "X_test = get_bert_embeddings(test['Text'])\n",
        "\n",
        "# Normalize embeddings\n",
        "scaler = StandardScaler()\n",
        "X_train_bert = scaler.fit_transform(X_train)\n",
        "X_test_bert = scaler.transform(X_test)\n",
        "\n",
        "# Print shape\n",
        "print(f\"BERT training features shape: {X_train_bert.shape}\")\n",
        "print(f\"BERT test features shape: {X_test_bert.shape}\")"
      ],
      "metadata": {
        "id": "Wn4ipqAwjaEu",
        "colab": {
          "base_uri": "https://localhost:8080/",
          "height": 411,
          "referenced_widgets": [
            "0de1f979e6c745599a5b2d00e8db765a",
            "a0b376436c294318b19607128f37e83d",
            "3f5ba44bd35849e481d7656fed76a655",
            "fee7e2eccff847ad8002e684fa40ddc8",
            "787a814de60f4f91a390cecdf84c805d",
            "e92d739415c14c85bcb37431a58734d2",
            "b2eeba50f1e545ce90eeadb372c77b7b",
            "629a5ec4b0004c9793767e4f609ef350",
            "9b1590d0e33f4e1ca1abcedbe63d8870",
            "46a3fcbf61974ca0bb3e08fe2b7ba141",
            "e8d9964a7dce4b0785bea526b29648cb",
            "89390687022340f39b2457254fd67f3b",
            "63c13a8a20cd4b909cf9baba3314a476",
            "fd1184017e5443f4b4b2d9b07210e7a3",
            "3672959aba9b4366ac5d039bfba76aed",
            "23a11712f0f4480686ef6026c8d104b2",
            "6f268a44fbd141faae3d368aeda313b6",
            "355c5901509d4e579774a00af83c88e7",
            "5d79d391f3004baa961316345168199a",
            "026b626dc714418daa0747a39021ca01",
            "b3c0f04c85a744148fd49585287feb3f",
            "840ced5f4bdb4743a91227e0b57420a5",
            "f61061d6a4dc40199507de0280f4fb90",
            "ff86b27c47264aa1a412e441cbde6ee6",
            "9d0c828562a44c47aa5456b9d955251a",
            "7230933420bf42afa2b78044e3e7e237",
            "b82a67d075894fbcbe3e497a87d9b708",
            "56dbebe0b7fb45cb9774083466980573",
            "68a0636c23174266a70fcec95a9e830f",
            "cdfa3281383842039cdc564c4964b921",
            "9327e1f5790f4839b32f2a77f012762a",
            "92b60b8a8b9d405c8335337b2a91bf09",
            "dd51a8dca4614d30816b62f6e919fc93",
            "f9a65f292ad34a8892c11ef164782638",
            "9e6fd4ce485140089221b7211850208a",
            "f1eee66148e54c62a74eb5645796753a",
            "c6929fba9264430e8f3c7f058f523f9b",
            "9e6bd9a8bdca4f85afb4f3245b2fed83",
            "22a6fa84737f4612bc43cf2049dd7279",
            "4368fb17a1774a8380c5abd3ca7facaf",
            "b25f57858aa241a98c348208884e6332",
            "bc325adb2755479fbfefde922304163e",
            "5683b9423e90468ebe3a675520004899",
            "69a968d90ea24151bd113c3137dfb370",
            "a70cb6f84d32477e8116b62ba3fe4e7b",
            "9dda84b0fe2449b89711c7046b1f0888",
            "fa6865bc09184cc2971d660498977de5",
            "bc2d30a8cdbc49b082d4b7c7447346e5",
            "073a57663f18450ea0cafad035ecba65",
            "6430a5d25353414599f09ead7db66203",
            "f406999da3474cd2bb0cc4a3ff946d9f",
            "863db9e08d594069afc558e312da2f72",
            "0bace5af6b0449ef895d3a38e85653a8",
            "c9dafaf84db04228abaa496fcb8d0e42",
            "3a5ed14ab31a4a038c56042732d7f93b"
          ]
        },
        "outputId": "e37bbb80-2714-491d-de9f-86d990f6a95e"
      },
      "execution_count": null,
      "outputs": [
        {
          "output_type": "stream",
          "name": "stderr",
          "text": [
            "/usr/local/lib/python3.11/dist-packages/huggingface_hub/utils/_auth.py:94: UserWarning: \n",
            "The secret `HF_TOKEN` does not exist in your Colab secrets.\n",
            "To authenticate with the Hugging Face Hub, create a token in your settings tab (https://huggingface.co/settings/tokens), set it as secret in your Google Colab and restart your session.\n",
            "You will be able to reuse this secret in all of your notebooks.\n",
            "Please note that authentication is recommended but still optional to access public models or datasets.\n",
            "  warnings.warn(\n"
          ]
        },
        {
          "output_type": "display_data",
          "data": {
            "text/plain": [
              "tokenizer_config.json:   0%|          | 0.00/48.0 [00:00<?, ?B/s]"
            ],
            "application/vnd.jupyter.widget-view+json": {
              "version_major": 2,
              "version_minor": 0,
              "model_id": "0de1f979e6c745599a5b2d00e8db765a"
            }
          },
          "metadata": {}
        },
        {
          "output_type": "display_data",
          "data": {
            "text/plain": [
              "config.json:   0%|          | 0.00/570 [00:00<?, ?B/s]"
            ],
            "application/vnd.jupyter.widget-view+json": {
              "version_major": 2,
              "version_minor": 0,
              "model_id": "89390687022340f39b2457254fd67f3b"
            }
          },
          "metadata": {}
        },
        {
          "output_type": "display_data",
          "data": {
            "text/plain": [
              "vocab.txt:   0%|          | 0.00/232k [00:00<?, ?B/s]"
            ],
            "application/vnd.jupyter.widget-view+json": {
              "version_major": 2,
              "version_minor": 0,
              "model_id": "f61061d6a4dc40199507de0280f4fb90"
            }
          },
          "metadata": {}
        },
        {
          "output_type": "display_data",
          "data": {
            "text/plain": [
              "tokenizer.json:   0%|          | 0.00/466k [00:00<?, ?B/s]"
            ],
            "application/vnd.jupyter.widget-view+json": {
              "version_major": 2,
              "version_minor": 0,
              "model_id": "f9a65f292ad34a8892c11ef164782638"
            }
          },
          "metadata": {}
        },
        {
          "output_type": "display_data",
          "data": {
            "text/plain": [
              "model.safetensors:   0%|          | 0.00/440M [00:00<?, ?B/s]"
            ],
            "application/vnd.jupyter.widget-view+json": {
              "version_major": 2,
              "version_minor": 0,
              "model_id": "a70cb6f84d32477e8116b62ba3fe4e7b"
            }
          },
          "metadata": {}
        },
        {
          "output_type": "stream",
          "name": "stdout",
          "text": [
            "Generating train embeddings...\n"
          ]
        },
        {
          "output_type": "stream",
          "name": "stderr",
          "text": [
            "Generating BERT embeddings: 100%|██████████| 200/200 [28:16<00:00,  8.48s/it]\n"
          ]
        },
        {
          "output_type": "stream",
          "name": "stdout",
          "text": [
            "Generating test embeddings...\n"
          ]
        },
        {
          "output_type": "stream",
          "name": "stderr",
          "text": [
            "Generating BERT embeddings: 100%|██████████| 50/50 [07:23<00:00,  8.87s/it]"
          ]
        },
        {
          "output_type": "stream",
          "name": "stdout",
          "text": [
            "BERT training features shape: (3200, 768)\n",
            "BERT test features shape: (800, 768)\n"
          ]
        },
        {
          "output_type": "stream",
          "name": "stderr",
          "text": [
            "\n"
          ]
        }
      ]
    },
    {
      "cell_type": "markdown",
      "source": [
        "BERT does not need additional preprocessing as TF-IDF did. Here, the text is tokenized and bert-base-uncased is applied to the data. Embeddings are generated and normalized."
      ],
      "metadata": {
        "id": "-5C2CaSrdvyk"
      }
    },
    {
      "cell_type": "markdown",
      "source": [
        "**Combine**"
      ],
      "metadata": {
        "id": "LuEPzbU5SXkA"
      }
    },
    {
      "cell_type": "code",
      "source": [
        "# Combine features\n",
        "X_train_combined = np.concatenate((X_train_bert, X_train_tfidf), axis=1)\n",
        "X_test_combined = np.concatenate((X_test_bert, X_test_tfidf), axis=1)\n",
        "\n",
        "# Print shape\n",
        "print(f\"Combined training features shape: {X_train_combined.shape}\")\n",
        "print(f\"Combined test features shape: {X_test_combined.shape}\")"
      ],
      "metadata": {
        "id": "oZ2gR4737cIs",
        "colab": {
          "base_uri": "https://localhost:8080/"
        },
        "outputId": "d2595e27-b619-4493-96de-32b5979fd806"
      },
      "execution_count": null,
      "outputs": [
        {
          "output_type": "stream",
          "name": "stdout",
          "text": [
            "Combined training features shape: (3200, 3419)\n",
            "Combined test features shape: (800, 3419)\n"
          ]
        }
      ]
    },
    {
      "cell_type": "markdown",
      "source": [
        "TF-IDF features and BERT embeddings are combined."
      ],
      "metadata": {
        "id": "wnNtN-XuewKL"
      }
    },
    {
      "cell_type": "markdown",
      "source": [
        "**Extract labels**"
      ],
      "metadata": {
        "id": "HbE6rWBFOSIh"
      }
    },
    {
      "cell_type": "code",
      "source": [
        "# Extract label columns\n",
        "train_labels = train['Label']\n",
        "test_labels = test['Label']"
      ],
      "metadata": {
        "id": "ul-VpMW2Ztok"
      },
      "execution_count": null,
      "outputs": []
    },
    {
      "cell_type": "markdown",
      "source": [
        "Label columns are extracted."
      ],
      "metadata": {
        "id": "eTPSZ2_BKQGm"
      }
    },
    {
      "cell_type": "markdown",
      "source": [
        "### 6 - Model training\n",
        "\n",
        "\n",
        "---\n",
        "\n"
      ],
      "metadata": {
        "id": "e2cpI4sXRR2j"
      }
    },
    {
      "cell_type": "markdown",
      "source": [
        "Different model types are trained, each using the 3 feature representations. They are tuned with balanced weights and 5-fold cross validation. The top 4 models are selected by F1 score.\n",
        "\n",
        "A naive classifier is also created to evaluate the baseline for F1.\n",
        "\n",
        "**Baseline:**\n",
        "1. Naive, logistic regression\n",
        "**Model Types:**\n",
        "1. Logistic regression\n",
        "2. Support Vector Machine\n",
        "3. XGBoost\n",
        "4. LightGBM\n"
      ],
      "metadata": {
        "id": "rVPRWtMKOhFl"
      }
    },
    {
      "cell_type": "markdown",
      "source": [
        "**Baseline**"
      ],
      "metadata": {
        "id": "aClItxJ1W98Y"
      }
    },
    {
      "cell_type": "code",
      "source": [
        "from sklearn.linear_model import LogisticRegressionCV, LogisticRegression\n",
        "from sklearn.metrics import classification_report, confusion_matrix, accuracy_score, f1_score, precision_score, recall_score, log_loss, average_precision_score, ConfusionMatrixDisplay\n",
        "\n",
        "# Create a naive baseline that always predicts the majority class (0)\n",
        "y_baseline_pred = np.zeros_like(test_labels)\n",
        "\n",
        "# Evaluate baseline\n",
        "baseline_accuracy = accuracy_score(test_labels, y_baseline_pred)\n",
        "baseline_f1_minority = f1_score(test_labels, y_baseline_pred, pos_label=1, zero_division=0)\n",
        "baseline_precision = precision_score(test_labels, y_baseline_pred, pos_label=1, zero_division=0)\n",
        "baseline_recall = recall_score(test_labels, y_baseline_pred, pos_label=1, zero_division=0)\n",
        "\n",
        "# Print classification report\n",
        "print(classification_report(test_labels, y_baseline_pred, zero_division=0))"
      ],
      "metadata": {
        "colab": {
          "base_uri": "https://localhost:8080/"
        },
        "id": "vzM8jS8eW8w_",
        "outputId": "68829ec7-f3b1-4018-f03f-faa19590187b"
      },
      "execution_count": null,
      "outputs": [
        {
          "output_type": "stream",
          "name": "stdout",
          "text": [
            "              precision    recall  f1-score   support\n",
            "\n",
            "           0       0.98      1.00      0.99       788\n",
            "           1       0.00      0.00      0.00        12\n",
            "\n",
            "    accuracy                           0.98       800\n",
            "   macro avg       0.49      0.50      0.50       800\n",
            "weighted avg       0.97      0.98      0.98       800\n",
            "\n"
          ]
        }
      ]
    },
    {
      "cell_type": "markdown",
      "source": [
        "The naive logistic regression classifier establishes a baseline by always predicting the majority class (non-outage posts). This model achieves a high accuracy due to the dataset’s imbalance, scoring 0.98, but it assigns a score of 0 for the minority class (outage posts).\n",
        "\n",
        "Improvements on the F1 score are measured against this baseline of 0."
      ],
      "metadata": {
        "id": "WZL3vNFDe40e"
      }
    },
    {
      "cell_type": "markdown",
      "source": [
        "**Logistic regression**"
      ],
      "metadata": {
        "id": "cKthzLwxGlEC"
      }
    },
    {
      "cell_type": "code",
      "source": [
        "from sklearn.model_selection import StratifiedKFold, cross_validate, ParameterGrid\n",
        "\n",
        "# Define feature representations\n",
        "features = {\n",
        "    \"TF-IDF\": X_train_tfidf,\n",
        "    \"BERT\": X_train_bert,\n",
        "    \"Combined\": X_train_combined\n",
        "}\n",
        "\n",
        "# Setup 5 folds for cross-validation with stratificatiom to preserve class distribution\n",
        "skf = StratifiedKFold(n_splits=5, shuffle=True, random_state=42)\n",
        "\n",
        "lr_results = {}\n",
        "\n",
        "# Evaluate each feature representation and store metrics\n",
        "for name, X in features.items():\n",
        "    lr = LogisticRegression(\n",
        "        class_weight=\"balanced\",      # Balance weights due to class imbalance\n",
        "        max_iter=2000,\n",
        "        random_state=42\n",
        "    )\n",
        "    # Perform cross-validation and compute scores for each metrics\n",
        "    scores = cross_validate(\n",
        "        lr, X, train_labels,\n",
        "        cv=skf,\n",
        "        scoring=[\"f1\", \"recall\", \"precision\"],\n",
        "        n_jobs=-1\n",
        "    )\n",
        "    # Store scores for each metric\n",
        "    lr_results[name] = {\n",
        "        \"f1\": np.mean(scores[\"test_f1\"]),\n",
        "        \"recall\": np.mean(scores[\"test_recall\"]),\n",
        "        \"precision\": np.mean(scores[\"test_precision\"])\n",
        "    }\n",
        "\n",
        "# Print full results\n",
        "for emb, scores in lr_results.items():\n",
        "    print(f\"{emb}: F1={scores['f1']:.4f}, Recall={scores['recall']:.4f}, Precision={scores['precision']:.4f}\")\n",
        "\n",
        "# Find feature representation and print\n",
        "best_lr_features = max(lr_results, key=lambda k: lr_results[k][\"f1\"])\n",
        "print(f\"\\nBest Features for Logistic Regression: {best_lr_features}\")"
      ],
      "metadata": {
        "colab": {
          "base_uri": "https://localhost:8080/"
        },
        "id": "Lr-f_9vVGMZY",
        "outputId": "fb9b5a16-989f-49d4-9af6-2044550a8212"
      },
      "execution_count": null,
      "outputs": [
        {
          "output_type": "stream",
          "name": "stdout",
          "text": [
            "TF-IDF: F1=0.7583, Recall=0.7550, Precision=0.7621\n",
            "BERT: F1=0.7170, Recall=0.7566, Precision=0.6821\n",
            "Combined: F1=0.7185, Recall=0.7533, Precision=0.6875\n",
            "\n",
            "Best Features for Logistic Regression: TF-IDF\n"
          ]
        }
      ]
    },
    {
      "cell_type": "markdown",
      "source": [
        "**SVM**"
      ],
      "metadata": {
        "id": "SYTH7fETuCxl"
      }
    },
    {
      "cell_type": "code",
      "source": [
        "from sklearn.svm import SVC\n",
        "\n",
        "svm_results = {}\n",
        "\n",
        "# Evaluate each feature representation and store metrics\n",
        "for name, X in features.items():\n",
        "    svm_clf = SVC(\n",
        "        kernel='linear',               # Linear kernel for interpretability and speed\n",
        "        class_weight='balanced',       # Handle class imbalance\n",
        "        random_state=42\n",
        "    )\n",
        "    # Perform cross-validation and compute scores for each metrics\n",
        "    scores = cross_validate(\n",
        "        svm_clf, X, train_labels,\n",
        "        cv=skf,\n",
        "        scoring=[\"f1\", \"recall\", \"precision\"],\n",
        "        n_jobs=-1\n",
        "    )\n",
        "    # Store scores for each metric\n",
        "    svm_results[name] = {\n",
        "        \"f1\": np.mean(scores[\"test_f1\"]),\n",
        "        \"recall\": np.mean(scores[\"test_recall\"]),\n",
        "        \"precision\": np.mean(scores[\"test_precision\"])\n",
        "    }\n",
        "\n",
        "# Print full results\n",
        "for emb, scores in svm_results.items():\n",
        "    print(f\"{emb}: F1={scores['f1']:.4f}, Recall={scores['recall']:.4f}, Precision={scores['precision']:.4f}\")\n",
        "\n",
        "# Find feature representation and print\n",
        "best_svm_features = max(svm_results, key=lambda k: svm_results[k][\"f1\"])\n",
        "print(f\"\\nBest Features for SVM: {best_svm_features}\")"
      ],
      "metadata": {
        "colab": {
          "base_uri": "https://localhost:8080/"
        },
        "id": "JKxWr-dfuC5Y",
        "outputId": "13f01c43-ff19-4619-b3e0-5a3c37ecb0bc"
      },
      "execution_count": null,
      "outputs": [
        {
          "output_type": "stream",
          "name": "stdout",
          "text": [
            "TF-IDF: F1=0.7443, Recall=0.7668, Precision=0.7241\n",
            "BERT: F1=0.6937, Recall=0.7332, Precision=0.6584\n",
            "Combined: F1=0.6885, Recall=0.7248, Precision=0.6558\n",
            "\n",
            "Best Features for SVM: TF-IDF\n"
          ]
        }
      ]
    },
    {
      "cell_type": "markdown",
      "source": [
        "**XGBoost**"
      ],
      "metadata": {
        "id": "_sVcbyt4Gt0n"
      }
    },
    {
      "cell_type": "code",
      "source": [
        "import xgboost as xgb\n",
        "\n",
        "# Calculate class imbalance weight for XGBoost and LightGBM tree-based models\n",
        "scale_pos_weight = np.sum(train_labels == 0) / np.sum(train_labels == 1)\n",
        "\n",
        "xgb_results = {}\n",
        "\n",
        "# Evaluate each feature representation and store metrics\n",
        "for name, X in features.items():\n",
        "    xgb_clf = xgb.XGBClassifier(\n",
        "        random_state=42,\n",
        "        objective='binary:logistic',\n",
        "        eval_metric='logloss',\n",
        "        scale_pos_weight=scale_pos_weight,  # Balance weights due to class imbalance\n",
        "        use_label_encoder=False,\n",
        "        verbosity=0,\n",
        "        n_jobs=-1\n",
        "    )\n",
        "    # Perform cross-validation and compute scores for each metrics\n",
        "    scores = cross_validate(\n",
        "        xgb_clf, X, train_labels,\n",
        "        cv=skf,\n",
        "        scoring=[\"f1\", \"recall\", \"precision\"],\n",
        "        n_jobs=-1\n",
        "    )\n",
        "    # Store scores for each metric\n",
        "    xgb_results[name] = {\n",
        "        \"f1\": np.mean(scores[\"test_f1\"]),\n",
        "        \"recall\": np.mean(scores[\"test_recall\"]),\n",
        "        \"precision\": np.mean(scores[\"test_precision\"])\n",
        "    }\n",
        "\n",
        "# Print full results\n",
        "for emb, scores in xgb_results.items():\n",
        "    print(f\"{emb}: F1={scores['f1']:.4f}, Recall={scores['recall']:.4f}, Precision={scores['precision']:.4f}\")\n",
        "\n",
        "# Find feature representation and print\n",
        "best_xgb_features = max(xgb_results, key=lambda k: xgb_results[k][\"f1\"])\n",
        "print(f\"\\nBest Features for XGBoost: {best_xgb_features}\")"
      ],
      "metadata": {
        "colab": {
          "base_uri": "https://localhost:8080/"
        },
        "id": "Hck95EedGqxS",
        "outputId": "3c625c27-5788-417a-9f85-bdce5c08001d"
      },
      "execution_count": null,
      "outputs": [
        {
          "output_type": "stream",
          "name": "stdout",
          "text": [
            "TF-IDF: F1=0.7319, Recall=0.7247, Precision=0.7401\n",
            "BERT: F1=0.6271, Recall=0.5268, Precision=0.7754\n",
            "Combined: F1=0.7227, Recall=0.6358, Precision=0.8397\n",
            "\n",
            "Best Features for XGBoost: TF-IDF\n"
          ]
        }
      ]
    },
    {
      "cell_type": "markdown",
      "source": [
        "**LightGBM**"
      ],
      "metadata": {
        "id": "SlYNS3MnGzEJ"
      }
    },
    {
      "cell_type": "code",
      "source": [
        "import lightgbm as lgb\n",
        "import warnings\n",
        "\n",
        "# Suppress LightGBM warnings\n",
        "warnings.filterwarnings(\"ignore\", message=\".*X does not have valid feature names.*\", category=UserWarning)\n",
        "\n",
        "lgb_results = {}\n",
        "\n",
        "# Evaluate each feature representation and store metrics\n",
        "for name, X in features.items():\n",
        "    lgb_clf = lgb.LGBMClassifier(\n",
        "        random_state=42,\n",
        "        objective=\"binary\",\n",
        "        metric=\"None\",\n",
        "        scale_pos_weight=scale_pos_weight,    # Balance weights due to class imbalance\n",
        "        verbose=-1,\n",
        "        device=\"cpu\",\n",
        "        n_jobs=-1\n",
        "    )\n",
        "    # Perform cross-validation and compute scores for each metrics\n",
        "    scores = cross_validate(\n",
        "        lgb_clf, X, train_labels,\n",
        "        cv=skf,\n",
        "        scoring=[\"f1\", \"recall\", \"precision\"],\n",
        "        n_jobs=-1\n",
        "    )\n",
        "    # Store scores for each metric\n",
        "    lgb_results[name] = {\n",
        "        \"f1\": np.mean(scores[\"test_f1\"]),\n",
        "        \"recall\": np.mean(scores[\"test_recall\"]),\n",
        "        \"precision\": np.mean(scores[\"test_precision\"])  # Store precision\n",
        "    }\n",
        "\n",
        "# Print full results\n",
        "for emb, scores in lgb_results.items():\n",
        "    print(f\"{emb}: F1={scores['f1']:.4f}, Recall={scores['recall']:.4f}, Precision={scores['precision']:.4f}\")\n",
        "\n",
        "# Find feature representation and print\n",
        "best_lgb_features = max(lgb_results, key=lambda k: lgb_results[k][\"f1\"])\n",
        "print(f\"\\nBest Features for LightGBM: {best_lgb_features}\")"
      ],
      "metadata": {
        "colab": {
          "base_uri": "https://localhost:8080/"
        },
        "id": "bF5ac_FnGzMU",
        "outputId": "db289487-7f2e-4149-944f-9d58653efbcd"
      },
      "execution_count": null,
      "outputs": [
        {
          "output_type": "stream",
          "name": "stdout",
          "text": [
            "TF-IDF: F1=0.6685, Recall=0.7063, Precision=0.6363\n",
            "BERT: F1=0.6265, Recall=0.5251, Precision=0.7824\n",
            "Combined: F1=0.7596, Recall=0.6560, Precision=0.9025\n",
            "\n",
            "Best Features for LightGBM: Combined\n"
          ]
        }
      ]
    },
    {
      "cell_type": "markdown",
      "source": [
        "### 7 - Model tuning\n",
        "\n",
        "\n",
        "---\n",
        "\n",
        "Further tuning is done to the 4 best models. This will supplement the prior performance metrics to determine the single best model and the best parameters for the test set.\n",
        "\n",
        "The following is tuned:\n",
        "*   Hyperparameters\n",
        "*   Threshold\n",
        "\n",
        "Validation set for tuning: while the training dataset is oversampled for training, the tuning should be done on the data's actual distribution (about 1.5% product outages). This ensures the model is not overfit on the oversampled training data and that the tuning targets generalize to realistic conditions."
      ],
      "metadata": {
        "id": "o68YBXqMNQ5d"
      }
    },
    {
      "cell_type": "markdown",
      "source": [
        "**Create realistic validation set for tuning**"
      ],
      "metadata": {
        "id": "0_syY9ZhXjsb"
      }
    },
    {
      "cell_type": "code",
      "source": [
        "from sklearn.model_selection import ParameterGrid\n",
        "\n",
        "# Function to create a validation set with realistic class balance\n",
        "def create_validation_set(X, y, val_size=0.2, pos_ratio=0.015, random_state=42):\n",
        "    # Set random seed for reproducibility\n",
        "    np.random.seed(random_state)\n",
        "\n",
        "    # Find indices for positive and negative classes\n",
        "    pos_indices = np.where(y == 1)[0]\n",
        "    neg_indices = np.where(y == 0)[0]\n",
        "\n",
        "    # Calculate number of samples for validation set\n",
        "    total_val_samples = int(len(X) * val_size)\n",
        "    pos_val_samples = max(1, int(total_val_samples * pos_ratio))\n",
        "    neg_val_samples = total_val_samples - pos_val_samples\n",
        "\n",
        "    # Ensure more samples than available aren't requested\n",
        "    pos_val_samples = min(pos_val_samples, len(pos_indices))\n",
        "    neg_val_samples = min(neg_val_samples, len(neg_indices))\n",
        "\n",
        "    # Randomly select validation indices\n",
        "    val_pos_idx = np.random.choice(pos_indices, size=pos_val_samples, replace=False)\n",
        "    val_neg_idx = np.random.choice(neg_indices, size=neg_val_samples, replace=False)\n",
        "\n",
        "    # Combine positive and negative indices for validation set\n",
        "    val_indices = np.concatenate([val_pos_idx, val_neg_idx])\n",
        "    train_indices = np.setdiff1d(np.arange(len(X)), val_indices)\n",
        "\n",
        "    return train_indices, val_indices\n",
        "\n",
        "# Function to tune model hyperparameters\n",
        "def tune_hyperparameters(model_class, param_grid, X, y, train_idx, val_idx, base_params=None):\n",
        "    best_score = -1\n",
        "    best_params = None\n",
        "    best_model = None\n",
        "\n",
        "    # Get training and validation data\n",
        "    X_train = X[train_idx]\n",
        "    y_train = y[train_idx]\n",
        "    X_val = X[val_idx]\n",
        "    y_val = y[val_idx]\n",
        "\n",
        "    # Try each combination of parameters\n",
        "    for params in ParameterGrid(param_grid):\n",
        "        if base_params:\n",
        "            params = {**base_params, **params}\n",
        "\n",
        "        # Train model and evaluate\n",
        "        model = model_class(**params)\n",
        "        model.fit(X_train, y_train)\n",
        "        y_prob = model.predict_proba(X_val)[:, 1]\n",
        "        score = average_precision_score(y_val, y_prob)\n",
        "\n",
        "        # Update best model if score improves\n",
        "        if score > best_score:\n",
        "            best_score = score\n",
        "            best_params = params\n",
        "            best_model = model\n",
        "\n",
        "    return best_model, best_params, best_score\n",
        "\n",
        "# Function to find best threshold for predictions\n",
        "def tune_threshold(model, X, y, train_idx, val_idx, thresholds=np.arange(0.1, 0.9, 0.05)):\n",
        "    X_train = X[train_idx]\n",
        "    y_train = y[train_idx]\n",
        "    X_val = X[val_idx]\n",
        "    y_val = y[val_idx]\n",
        "\n",
        "    # Train model and get predictions\n",
        "    model.fit(X_train, y_train)\n",
        "    y_prob = model.predict_proba(X_val)[:, 1]\n",
        "\n",
        "    best_threshold = 0.5\n",
        "    best_f1 = 0\n",
        "    best_metrics = {}\n",
        "\n",
        "    # Try different thresholds\n",
        "    for threshold in thresholds:\n",
        "        y_pred = (y_prob >= threshold).astype(int)\n",
        "        if len(np.unique(y_pred)) > 1:  # Check for valid predictions\n",
        "            f1 = f1_score(y_val, y_pred)\n",
        "            if f1 > best_f1:\n",
        "                best_f1 = f1\n",
        "                best_threshold = threshold\n",
        "                best_metrics = {\n",
        "                    'f1': f1,\n",
        "                    'precision': precision_score(y_val, y_pred),\n",
        "                    'recall': recall_score(y_val, y_pred)\n",
        "                }\n",
        "\n",
        "    return best_threshold, best_metrics\n",
        "\n",
        "# Set parameters for validation set\n",
        "val_size = 0.2\n",
        "pos_ratio = 0.015\n",
        "random_state = 42\n",
        "\n",
        "# Create validation sets for TF-IDF (Logistic Regression and XGBoost)\n",
        "train_idx_tfidf, val_idx_tfidf = create_validation_set(X_train_tfidf, train_labels, val_size, pos_ratio, random_state)\n",
        "print(f\"TF-IDF Validation Set: {len(val_idx_tfidf)} samples, Positive Ratio: {np.mean(train_labels[val_idx_tfidf]):.4f}\")\n",
        "\n",
        "# Create validation set for Combined (LightGBM)\n",
        "train_idx_combined, val_idx_combined = create_validation_set(X_train_combined, train_labels, val_size, pos_ratio, random_state)\n",
        "print(f\"Combined Validation Set: {len(val_idx_combined)} samples, Positive Ratio: {np.mean(train_labels[val_idx_combined]):.4f}\")\n",
        "\n",
        "# Calculate new class weights for imbalanced data\n",
        "scale_pos_weight = np.sum(train_labels == 0) / np.sum(train_labels == 1)\n",
        "scale_pos_weight_adjusted = scale_pos_weight * (pos_ratio / (np.sum(train_labels == 1) / len(train_labels)))\n",
        "print(f\"\\nClass Weights: Original={scale_pos_weight:.2f}, Adjusted={scale_pos_weight_adjusted:.2f}\")"
      ],
      "metadata": {
        "colab": {
          "base_uri": "https://localhost:8080/"
        },
        "id": "5ZHE-xRMQMIT",
        "outputId": "71d08dfa-a594-445f-9318-d7aa8df8a649"
      },
      "execution_count": null,
      "outputs": [
        {
          "output_type": "stream",
          "name": "stdout",
          "text": [
            "TF-IDF Validation Set: 640 samples, Positive Ratio: 0.0141\n",
            "Combined Validation Set: 640 samples, Positive Ratio: 0.0141\n",
            "\n",
            "Class Weights: Original=4.37, Adjusted=0.35\n"
          ]
        }
      ]
    },
    {
      "cell_type": "markdown",
      "source": [
        "**Tune Logistic Regression with TF-IDF**"
      ],
      "metadata": {
        "id": "-6oGGcg-Xwzz"
      }
    },
    {
      "cell_type": "code",
      "source": [
        "from sklearn.metrics import confusion_matrix, ConfusionMatrixDisplay\n",
        "\n",
        "# Tune Logistic Regression\n",
        "lr_param_grid = {\n",
        "    'C': [0.01, 0.1, 1, 10],\n",
        "    'penalty': ['l2']\n",
        "}\n",
        "lr_base_params = {\n",
        "    'class_weight': {0: 1, 1: scale_pos_weight_adjusted},\n",
        "    'max_iter': 1000,\n",
        "    'random_state': 42\n",
        "}\n",
        "best_lr_model, best_lr_params, best_lr_score = tune_hyperparameters(\n",
        "    LogisticRegression, lr_param_grid, X_train_tfidf, train_labels, train_idx_tfidf, val_idx_tfidf, lr_base_params\n",
        ")\n",
        "print(f\"\\nBest Logistic Regression Parameters: {best_lr_params}\")\n",
        "\n",
        "# Tune threshold for Logistic Regression\n",
        "lr_threshold, lr_metrics = tune_threshold(best_lr_model, X_train_tfidf, train_labels, train_idx_tfidf, val_idx_tfidf)\n",
        "print(f\"Best Logistic Regression Threshold: {lr_threshold:.3f}\")\n",
        "print(f\"F1: {lr_metrics['f1']:.4f}, Precision: {lr_metrics['precision']:.4f}, Recall: {lr_metrics['recall']:.4f}\")\n",
        "\n",
        "# Get validation predictions with the best threshold\n",
        "val_preds_proba = best_lr_model.predict_proba(X_train_tfidf[val_idx_tfidf])[:, 1]\n",
        "val_preds_binary = (val_preds_proba >= lr_threshold).astype(int)\n",
        "\n",
        "# Get true labels for validation set\n",
        "val_true = train_labels[val_idx_tfidf]\n",
        "\n",
        "# Generate Confusion Matrix\n",
        "cm = confusion_matrix(val_true, val_preds_binary)\n",
        "disp = ConfusionMatrixDisplay(confusion_matrix=cm, display_labels=[0, 1])\n",
        "disp.plot(cmap=\"Blues\")\n",
        "\n",
        "# Log loss\n",
        "val_log_loss = log_loss(val_true, val_preds_proba)\n",
        "print(f\"Log Loss: {val_log_loss:.4f}\")"
      ],
      "metadata": {
        "colab": {
          "base_uri": "https://localhost:8080/",
          "height": 558
        },
        "id": "yL2U-mTeQjn-",
        "outputId": "71e3acef-02ca-4868-dfde-bf3c8c28d2b2"
      },
      "execution_count": null,
      "outputs": [
        {
          "output_type": "stream",
          "name": "stdout",
          "text": [
            "\n",
            "Best Logistic Regression Parameters: {'class_weight': {0: 1, 1: 0.35187604161974684}, 'max_iter': 1000, 'random_state': 42, 'C': 10, 'penalty': 'l2'}\n",
            "Best Logistic Regression Threshold: 0.300\n",
            "F1: 0.4444, Precision: 0.3333, Recall: 0.6667\n",
            "Log Loss: 0.0666\n"
          ]
        },
        {
          "output_type": "display_data",
          "data": {
            "text/plain": [
              "<Figure size 640x480 with 2 Axes>"
            ],
            "image/png": "[encoded data removed]"
          },
          "metadata": {}
        }
      ]
    },
    {
      "cell_type": "markdown",
      "source": [
        "**Tune SVM with TF-IDF**"
      ],
      "metadata": {
        "id": "AOevVm6IvC4a"
      }
    },
    {
      "cell_type": "code",
      "source": [
        "# Tune SVM\n",
        "svm_param_grid = {\n",
        "    'C': [0.01, 0.1, 1, 10],\n",
        "    'kernel': ['linear', 'rbf']\n",
        "}\n",
        "svm_base_params = {\n",
        "    'class_weight': {0: 1, 1: scale_pos_weight_adjusted},  # Use your adjusted weight\n",
        "    'probability': True,   # Required for threshold tuning\n",
        "    'random_state': 42\n",
        "}\n",
        "best_svm_model, best_svm_params, best_svm_score = tune_hyperparameters(\n",
        "    SVC, svm_param_grid,\n",
        "    X_train_tfidf, train_labels,\n",
        "    train_idx_tfidf, val_idx_tfidf,\n",
        "    svm_base_params\n",
        ")\n",
        "\n",
        "print(f\"\\nBest SVM Parameters: {best_svm_params}\")\n",
        "\n",
        "# Tune Threshold for SVM\n",
        "svm_threshold, svm_metrics = tune_threshold(best_svm_model, X_train_tfidf, train_labels, train_idx_tfidf, val_idx_tfidf)\n",
        "print(f\"Best SVM Threshold: {svm_threshold:.3f}\")\n",
        "print(f\"F1: {svm_metrics['f1']:.4f}, Precision: {svm_metrics['precision']:.4f}, Recall: {svm_metrics['recall']:.4f}\")\n",
        "\n",
        "# Get validation predictions with the best threshold\n",
        "val_preds_proba = best_svm_model.predict_proba(X_train_tfidf[val_idx_tfidf])[:, 1]\n",
        "val_preds_binary = (val_preds_proba >= svm_threshold).astype(int)\n",
        "\n",
        "# Get true labels for validation set\n",
        "val_true = train_labels[val_idx_tfidf]\n",
        "\n",
        "# Generate Confusion Matrix\n",
        "cm = confusion_matrix(val_true, val_preds_binary)\n",
        "disp = ConfusionMatrixDisplay(confusion_matrix=cm, display_labels=[0, 1])\n",
        "disp.plot(cmap=\"Blues\")\n",
        "\n",
        "# Log loss\n",
        "val_log_loss = log_loss(val_true, val_preds_proba)\n",
        "print(f\"Log Loss: {val_log_loss:.4f}\")"
      ],
      "metadata": {
        "colab": {
          "base_uri": "https://localhost:8080/",
          "height": 558
        },
        "id": "QAhCtqQQvDAV",
        "outputId": "10ba8058-5148-496b-8fba-f1bd8d43060c"
      },
      "execution_count": null,
      "outputs": [
        {
          "output_type": "stream",
          "name": "stdout",
          "text": [
            "\n",
            "Best SVM Parameters: {'class_weight': {0: 1, 1: 0.35187604161974684}, 'probability': True, 'random_state': 42, 'C': 0.1, 'kernel': 'linear'}\n",
            "Best SVM Threshold: 0.800\n",
            "F1: 0.5000, Precision: 0.5714, Recall: 0.4444\n",
            "Log Loss: 0.1411\n"
          ]
        },
        {
          "output_type": "display_data",
          "data": {
            "text/plain": [
              "<Figure size 640x480 with 2 Axes>"
            ],
            "image/png": "[encoded data removed]"
          },
          "metadata": {}
        }
      ]
    },
    {
      "cell_type": "markdown",
      "source": [
        "**Tune XGBoost with TF-IDF**"
      ],
      "metadata": {
        "id": "18FOSnqkX0ui"
      }
    },
    {
      "cell_type": "code",
      "source": [
        "# Tune XGBoost\n",
        "xgb_param_grid = {\n",
        "    'learning_rate': [0.01, 0.1],\n",
        "    'max_depth': [3, 6, 9],\n",
        "    'n_estimators': [100, 200, 300]\n",
        "}\n",
        "xgb_base_params = {\n",
        "    'random_state': 42,\n",
        "    'scale_pos_weight': scale_pos_weight_adjusted\n",
        "}\n",
        "best_xgb_model, best_xgb_params, best_xgb_score = tune_hyperparameters(\n",
        "    xgb.XGBClassifier, xgb_param_grid, X_train_tfidf, train_labels, train_idx_tfidf, val_idx_tfidf, xgb_base_params\n",
        ")\n",
        "print(f\"\\nBest XGBoost Parameters: {best_xgb_params}\")\n",
        "\n",
        "# Tune threshold for XGBoost\n",
        "xgb_threshold, xgb_metrics = tune_threshold(best_xgb_model, X_train_tfidf, train_labels, train_idx_tfidf, val_idx_tfidf)\n",
        "print(f\"Best XGBoost Threshold: {xgb_threshold:.3f}\")\n",
        "print(f\"F1: {xgb_metrics['f1']:.4f}, Precision: {xgb_metrics['precision']:.4f}, Recall: {xgb_metrics['recall']:.4f}\")\n",
        "\n",
        "# Get validation predictions with the best threshold\n",
        "val_preds_proba = best_xgb_model.predict_proba(X_train_tfidf[val_idx_tfidf])[:, 1]\n",
        "val_preds_binary = (val_preds_proba >= xgb_threshold).astype(int)\n",
        "\n",
        "# Get true labels for validation set\n",
        "val_true = train_labels[val_idx_tfidf]\n",
        "\n",
        "# Generate Confusion Matrix\n",
        "cm = confusion_matrix(val_true, val_preds_binary)\n",
        "disp = ConfusionMatrixDisplay(confusion_matrix=cm, display_labels=[0, 1])\n",
        "disp.plot(cmap=\"Blues\")\n",
        "\n",
        "# Log loss\n",
        "val_log_loss = log_loss(val_true, val_preds_proba)\n",
        "print(f\"Log Loss: {val_log_loss:.4f}\")"
      ],
      "metadata": {
        "colab": {
          "base_uri": "https://localhost:8080/",
          "height": 558
        },
        "id": "WWC_4eIDQoc7",
        "outputId": "bdb72f3f-b300-423a-dfc7-4006b6e7aebb"
      },
      "execution_count": null,
      "outputs": [
        {
          "output_type": "stream",
          "name": "stdout",
          "text": [
            "\n",
            "Best XGBoost Parameters: {'random_state': 42, 'scale_pos_weight': 0.35187604161974684, 'learning_rate': 0.1, 'max_depth': 3, 'n_estimators': 300}\n",
            "Best XGBoost Threshold: 0.600\n",
            "F1: 0.5000, Precision: 0.5714, Recall: 0.4444\n",
            "Log Loss: 0.0825\n"
          ]
        },
        {
          "output_type": "display_data",
          "data": {
            "text/plain": [
              "<Figure size 640x480 with 2 Axes>"
            ],
            "image/png": "[encoded data removed]"
          },
          "metadata": {}
        }
      ]
    },
    {
      "cell_type": "markdown",
      "source": [
        "**Tune LightGBM with Combined Features**"
      ],
      "metadata": {
        "id": "_0mc4gQ1X4EV"
      }
    },
    {
      "cell_type": "code",
      "source": [
        "# Tune LightGBM\n",
        "lgb_param_grid = {\n",
        "    'learning_rate': [0.01, 0.1],\n",
        "    'max_depth': [3, 6, 9],\n",
        "    'n_estimators': [100, 200, 300]\n",
        "}\n",
        "lgb_base_params = {\n",
        "    'random_state': 42,\n",
        "    'scale_pos_weight': scale_pos_weight_adjusted,\n",
        "    'verbose': -1\n",
        "}\n",
        "best_lgb_model, best_lgb_params, best_lgb_score = tune_hyperparameters(\n",
        "    lgb.LGBMClassifier, lgb_param_grid, X_train_combined, train_labels, train_idx_combined, val_idx_combined, lgb_base_params\n",
        ")\n",
        "print(f\"\\nBest LightGBM Parameters: {best_lgb_params}\")\n",
        "\n",
        "# Tune threshold for LightGBM\n",
        "lgb_threshold, lgb_metrics = tune_threshold(best_lgb_model, X_train_combined, train_labels, train_idx_combined, val_idx_combined)\n",
        "print(f\"Best LightGBM Threshold: {lgb_threshold:.3f}\")\n",
        "print(f\"F1: {lgb_metrics['f1']:.4f}, Precision: {lgb_metrics['precision']:.4f}, Recall: {lgb_metrics['recall']:.4f}\")\n",
        "\n",
        "# Get validation predictions with the best threshold\n",
        "val_preds_proba = best_lgb_model.predict_proba(X_train_combined[val_idx_combined])[:, 1]\n",
        "val_preds_binary = (val_preds_proba >= lgb_threshold).astype(int)\n",
        "\n",
        "# Get true labels for validation set\n",
        "val_true = train_labels[val_idx_combined]\n",
        "\n",
        "# Generate Confusion Matrix\n",
        "cm = confusion_matrix(val_true, val_preds_binary)\n",
        "disp = ConfusionMatrixDisplay(confusion_matrix=cm, display_labels=[0, 1])\n",
        "disp.plot(cmap=\"Blues\")\n",
        "\n",
        "# Log loss\n",
        "val_log_loss = log_loss(val_true, val_preds_proba)\n",
        "print(f\"Log Loss: {val_log_loss:.4f}\")"
      ],
      "metadata": {
        "colab": {
          "base_uri": "https://localhost:8080/",
          "height": 558
        },
        "id": "68OUK2WLQtIG",
        "outputId": "55ffaf0c-b324-46c0-8051-349b3ed8d374"
      },
      "execution_count": null,
      "outputs": [
        {
          "output_type": "stream",
          "name": "stdout",
          "text": [
            "\n",
            "Best LightGBM Parameters: {'random_state': 42, 'scale_pos_weight': 0.35187604161974684, 'verbose': -1, 'learning_rate': 0.1, 'max_depth': 6, 'n_estimators': 200}\n",
            "Best LightGBM Threshold: 0.500\n",
            "F1: 0.5833, Precision: 0.4667, Recall: 0.7778\n",
            "Log Loss: 0.0650\n"
          ]
        },
        {
          "output_type": "display_data",
          "data": {
            "text/plain": [
              "<Figure size 640x480 with 2 Axes>"
            ],
            "image/png": "[encoded data removed]"
          },
          "metadata": {}
        }
      ]
    },
    {
      "cell_type": "markdown",
      "source": [
        "### 8 - Model Selection\n",
        "\n",
        "\n",
        "---\n",
        "\n"
      ],
      "metadata": {
        "id": "3UdqpqME5w_O"
      }
    },
    {
      "cell_type": "markdown",
      "source": [
        "LightGBM with combined features is selected primarily based on its:\n",
        "- Highest F1 performance in model training\n",
        "- Highest F1 performance in model tuning\n",
        "\n",
        "LightGBM with combined features is consistently the top performer with the best F1 scores. It also has a relatively high recall and precision, and which it maintains after tuning on a realistic class imbalance. XGBoost is a close second, but LightGBM has higher F1 scores while still showing good recall and precision.\n",
        "\n",
        "The F1 scores are a significant improvement on the baseline of 0."
      ],
      "metadata": {
        "id": "yAnSEl7l9Y3t"
      }
    },
    {
      "cell_type": "markdown",
      "source": [
        "**Scores after training (5-fold CV, balanced weights)**"
      ],
      "metadata": {
        "id": "EtJGuJtZ0mOt"
      }
    },
    {
      "cell_type": "code",
      "source": [
        "# Find feature representation and print\n",
        "best_lgb_features = max(lgb_results, key=lambda k: lgb_results[k][\"f1\"])\n",
        "print(f\"F1: {lgb_results[best_lgb_features]['f1']:.4f}\")\n",
        "print(f\"Recall: {lgb_results[best_lgb_features]['recall']:.4f}\")\n",
        "print(f\"Precision: {lgb_results[best_lgb_features]['precision']:.4f}\")"
      ],
      "metadata": {
        "colab": {
          "base_uri": "https://localhost:8080/"
        },
        "id": "qzF-f_q507IL",
        "outputId": "6406f21a-99f4-4678-8f02-1fc60db013dc"
      },
      "execution_count": null,
      "outputs": [
        {
          "output_type": "stream",
          "name": "stdout",
          "text": [
            "\n",
            "Best Features for LightGBM: Combined\n",
            "F1: 0.7596\n",
            "Recall: 0.6560\n",
            "Precision: 0.9025\n"
          ]
        }
      ]
    },
    {
      "cell_type": "markdown",
      "source": [
        "**Scores after tuning (on severe class imbalance)**"
      ],
      "metadata": {
        "id": "MYP8Q8_l0jAO"
      }
    },
    {
      "cell_type": "code",
      "source": [
        "print(f\"F1: {lgb_metrics['f1']:.4f}, Precision: {lgb_metrics['precision']:.4f}, Recall: {lgb_metrics['recall']:.4f}\")\n",
        "\n",
        "# Generate Confusion Matrix\n",
        "cm = confusion_matrix(val_true, val_preds_binary)\n",
        "disp = ConfusionMatrixDisplay(confusion_matrix=cm, display_labels=[0, 1])\n",
        "disp.plot(cmap=\"Blues\")\n",
        "\n",
        "val_log_loss = log_loss(val_true, val_preds_proba)\n",
        "print(f\"Log Loss: {val_log_loss:.4f}\")"
      ],
      "metadata": {
        "colab": {
          "base_uri": "https://localhost:8080/",
          "height": 485
        },
        "id": "vI8tut5EzBX5",
        "outputId": "81baeaa2-162b-4c5d-e2fd-0d0d92afed89"
      },
      "execution_count": null,
      "outputs": [
        {
          "output_type": "stream",
          "name": "stdout",
          "text": [
            "F1: 0.5833, Precision: 0.4667, Recall: 0.7778\n",
            "Log Loss: 0.0650\n"
          ]
        },
        {
          "output_type": "display_data",
          "data": {
            "text/plain": [
              "<Figure size 640x480 with 2 Axes>"
            ],
            "image/png": "[encoded data removed]"
          },
          "metadata": {}
        }
      ]
    },
    {
      "cell_type": "markdown",
      "source": [
        "### 9 - Model Evaluation\n",
        "\n",
        "\n",
        "---\n",
        "\n",
        "The best model, LightGBM with combined features, is retrained on the full training set with the optimal tuning found. It is then evaluated on the test set."
      ],
      "metadata": {
        "id": "ENfYv9MIgZZ-"
      }
    },
    {
      "cell_type": "markdown",
      "source": [
        "**Performance metrics on test set**"
      ],
      "metadata": {
        "id": "1qTc3lqWALlC"
      }
    },
    {
      "cell_type": "code",
      "source": [
        "# Rebuild the model with best hyperparameters\n",
        "final_lgb_model = lgb.LGBMClassifier(**best_lgb_params)\n",
        "\n",
        "# Retrain on the full training set\n",
        "final_lgb_model.fit(X_train_combined, train_labels)\n",
        "\n",
        "# Predict on test set\n",
        "y_test_probs = final_lgb_model.predict_proba(X_test_combined)[:, 1]\n",
        "y_test_preds = (y_test_probs >= lgb_threshold).astype(int)\n",
        "\n",
        "# Output evaluation metrics on test set\n",
        "print(\"Final Evaluation on Test Set\")\n",
        "print(classification_report(test_labels, y_test_preds, digits=4))\n",
        "print(f\"Log Loss: {log_loss(test_labels, y_test_probs):.4f}\")\n",
        "\n",
        "# Display confusion matrix\n",
        "ConfusionMatrixDisplay.from_predictions(\n",
        "    test_labels, y_test_preds, display_labels=[0, 1], cmap='Blues'\n",
        ")"
      ],
      "metadata": {
        "colab": {
          "base_uri": "https://localhost:8080/",
          "height": 663
        },
        "id": "7BxkYr3KlKVp",
        "outputId": "6b6d037c-7d99-48ff-d71e-0742e62312f7"
      },
      "execution_count": null,
      "outputs": [
        {
          "output_type": "stream",
          "name": "stdout",
          "text": [
            "Final Evaluation on Test Set\n",
            "              precision    recall  f1-score   support\n",
            "\n",
            "           0     0.9924    0.9987    0.9956       788\n",
            "           1     0.8571    0.5000    0.6316        12\n",
            "\n",
            "    accuracy                         0.9912       800\n",
            "   macro avg     0.9248    0.7494    0.8136       800\n",
            "weighted avg     0.9904    0.9912    0.9901       800\n",
            "\n",
            "Log Loss: 0.0348\n"
          ]
        },
        {
          "output_type": "execute_result",
          "data": {
            "text/plain": [
              "<sklearn.metrics._plot.confusion_matrix.ConfusionMatrixDisplay at 0x7eb19c1f3c50>"
            ]
          },
          "metadata": {},
          "execution_count": 20
        },
        {
          "output_type": "display_data",
          "data": {
            "text/plain": [
              "<Figure size 640x480 with 2 Axes>"
            ],
            "image/png": "[encoded data removed]"
          },
          "metadata": {}
        }
      ]
    },
    {
      "cell_type": "markdown",
      "source": [
        "The final model performs well compared to the baseline naive classifier, which had an F1 score of 0. Especially given that outage posts are rare, making up only 1.5% of the test set and actual data, it achieves a respectable F1 score.It has high precision but moderate recall, indicating it misses half of the actual outages due to a potentially suboptimal threshold.\n",
        "\n",
        "The low log loss reflects strong confidence in its predictions, and the confusion matrix shows it correctly identified 6 outage posts and 788 non-outage posts, while incorrectly labeling 7 outage posts."
      ],
      "metadata": {
        "id": "i5daAWcl8KLB"
      }
    },
    {
      "cell_type": "markdown",
      "source": [
        "**Misclassified posts**"
      ],
      "metadata": {
        "id": "ke1YtqlAAw85"
      }
    },
    {
      "cell_type": "code",
      "source": [
        "# Find misclassified posts\n",
        "misclassified = np.where(y_test_preds != test_labels)[0]\n",
        "\n",
        "# Create a DataFrame with misclassified posts\n",
        "misclassified_df = pd.DataFrame({\n",
        "    'Post_Text': test['Text'].iloc[misclassified],\n",
        "    'True_Label': test_labels[misclassified],\n",
        "    'Predicted_Label': y_test_preds[misclassified]\n",
        "})\n",
        "\n",
        "# Print results\n",
        "print(f\"Total misclassified: {len(misclassified)}\")\n",
        "print(misclassified_df)"
      ],
      "metadata": {
        "colab": {
          "base_uri": "https://localhost:8080/"
        },
        "id": "h7bkdMS0lLL-",
        "outputId": "57f40ec5-b490-45c8-a4c6-b267d934d23f"
      },
      "execution_count": null,
      "outputs": [
        {
          "output_type": "stream",
          "name": "stdout",
          "text": [
            "Total misclassified: 7\n",
            "                                             Post_Text  True_Label  \\\n",
            "138  I would like to see a larger option available,...           0   \n",
            "230  Alissa Sanford mine is out too - so early in t...           1   \n",
            "405  \"didn't even get the full order  nobody called...           1   \n",
            "566              refunded by the store out of product.           1   \n",
            "758  Didnt get Bagel. Starbucks said no bagels in s...           1   \n",
            "789  It wasn't the restraunt  it was just me  I usu...           1   \n",
            "799  they should have taken it off their menu if it...           1   \n",
            "\n",
            "     Predicted_Label  \n",
            "138                1  \n",
            "230                0  \n",
            "405                0  \n",
            "566                0  \n",
            "758                0  \n",
            "789                0  \n",
            "799                0  \n"
          ]
        }
      ]
    },
    {
      "cell_type": "markdown",
      "source": [
        "The model misclassified 7 posts, mostly missing product outage posts. Keywords like “is out too,” “store out of product,” and “Starbucks said no bagels,” the model missed highlights the model’s struggle to generalize across diverse expressions of outage-related content, possibly due to the limited representation of such cases in the training data.\n",
        "\n",
        "Retraining the model with a larger, more varied dataset could improve its ability to accurately identify these outage posts by capturing a broader range of linguistic patterns."
      ],
      "metadata": {
        "id": "hi28dEs_85VN"
      }
    },
    {
      "cell_type": "markdown",
      "source": [
        "### 9 - Active Learning\n",
        "\n",
        "\n",
        "---\n",
        "\n",
        "A small active learning test is performed to see if active learning will improve the best model's F1 score and other metrics."
      ],
      "metadata": {
        "id": "9XL0pLUWU4_x"
      }
    },
    {
      "cell_type": "code",
      "source": [
        "# Rerun code from start until Feature Engineering, then run this cell\n",
        "\n",
        "# Combine train and test original indices\n",
        "labeled_indices = set(train_df['original_index']).union(set(test_df['original_index']))\n",
        "\n",
        "# Get all original indices from the combined_df\n",
        "combined_df_indexed = combined_df.reset_index()\n",
        "all_original_indices = set(combined_df_indexed['index'])\n",
        "\n",
        "# Identify indices that are in combined_df but not in train_df or test_df\n",
        "unlabeled_indices = list(all_original_indices - labeled_indices)\n",
        "\n",
        "# Select the rows from the original combined_df using these indices\n",
        "unlabeled_pool_df = combined_df.loc[unlabeled_indices].copy().reset_index(drop=True)\n",
        "\n",
        "# Drop any helper columns\n",
        "unlabeled_pool_df = unlabeled_pool_df.drop(columns=['text_lower', 'is_keyword_hit', 'char_count'], errors='ignore')\n",
        "\n",
        "# Sample 1000 rows from the unlabeled pool\n",
        "unlabeled_df = unlabeled_pool_df.sample(n=3000, random_state=42)\n",
        "\n",
        "print(f\"Size of the unlabeled pool for active learning: {len(unlabeled_df)}\")"
      ],
      "metadata": {
        "colab": {
          "base_uri": "https://localhost:8080/"
        },
        "id": "28EQIFZDacJP",
        "outputId": "e01bac3d-11b5-4e03-e673-f2a815dcbfdc"
      },
      "execution_count": null,
      "outputs": [
        {
          "output_type": "stream",
          "name": "stdout",
          "text": [
            "Size of the unlabeled pool for active learning: 3000\n"
          ]
        }
      ]
    },
    {
      "cell_type": "code",
      "source": [
        "# Preprocess text for TF-IDF (same as training)\n",
        "def preprocess_text_for_phrasing(text):\n",
        "    text = str(text).lower()                                          # Lowercase\n",
        "    text = re.sub(r'http\\S+', '', text)                               # Remove URLs\n",
        "    text = text.translate(str.maketrans('', '', string.punctuation))  # Remove punctuation\n",
        "    tokens = word_tokenize(text)                                      # Tokenize\n",
        "    tokens = [lemmatizer.lemmatize(token) for token in tokens if token not in stop_words]  # Lemmatize and remove stop words\n",
        "    return tokens\n",
        "\n",
        "# Apply preprocessing for TF-IDF\n",
        "unlabeled_df['Text_tokens_al'] = unlabeled_df['Text'].apply(preprocess_text_for_phrasing)\n",
        "\n",
        "# Apply phraser\n",
        "unlabeled_df['Text_phrased_al'] = unlabeled_df['Text_tokens_al'].apply(lambda tokens: phraser[tokens])\n",
        "\n",
        "# Rejoin tokens for TF-IDF\n",
        "unlabeled_df['Text_tfidf_al'] = unlabeled_df['Text_phrased_al'].apply(lambda tokens: ' '.join(tokens))\n",
        "\n",
        "# Transform the text data using the fitted TF-IDF vectorizer\n",
        "X_unlabeled_tfidf = tfidf_vectorizer.transform(unlabeled_df['Text_tfidf_al']).toarray()\n",
        "\n",
        "# Generate BERT embeddings for unlabeled data\n",
        "print(\"Generating BERT embeddings for unlabeled data...\")\n",
        "X_unlabeled_bert = get_bert_embeddings(unlabeled_df['Text'])\n",
        "\n",
        "# Normalize BERT embeddings using the same scaler as training\n",
        "X_unlabeled_bert = scaler.transform(X_unlabeled_bert)\n",
        "\n",
        "# Combine TF-IDF and BERT embeddings\n",
        "X_unlabeled_combined = np.concatenate((X_unlabeled_bert, X_unlabeled_tfidf), axis=1)\n",
        "\n",
        "# Predict probabilities on the unlabeled data using the trained LightGBM model\n",
        "y_unlabeled_proba = final_lgb_model.predict_proba(X_unlabeled_combined)[:, 1]\n",
        "\n",
        "# Add probabilities and predictions to the unlabeled dataframe\n",
        "unlabeled_df['predicted_proba_1'] = y_unlabeled_proba\n",
        "\n",
        "# Use the best threshold found earlier for the final prediction\n",
        "unlabeled_df['Label'] = (y_unlabeled_proba >= lgb_threshold).astype(int)\n",
        "\n",
        "# Filter for instances with predicted label 1 or high uncertainty (probability near 0.5)\n",
        "uncertainty_threshold = 0.1  # Define a range around 0.5 for uncertainty\n",
        "uncertain_or_class_1 = unlabeled_df[\n",
        "    (unlabeled_df['Label'] == 1) |\n",
        "    ((unlabeled_df['predicted_proba_1'] > (0.5 - uncertainty_threshold)) &\n",
        "     (unlabeled_df['predicted_proba_1'] < (0.5 + uncertainty_threshold)))\n",
        "].copy()\n",
        "\n",
        "print(f\"Number of uncertain or class 1 predictions for manual labeling: {len(uncertain_or_class_1)}\")\n",
        "display(uncertain_or_class_1[['Text', 'predicted_proba_1', 'Label']])\n",
        "\n",
        "# Define the path to save the file\n",
        "drive_path = '/content/drive/My Drive/'\n",
        "\n",
        "# Select columns for manual labeling and export to Excel\n",
        "cols_to_export_al = ['Text', 'Label']\n",
        "uncertain_or_class_1[cols_to_export_al].to_excel(drive_path + 'active_learning_for_labeling.xlsx', index=False)"
      ],
      "metadata": {
        "colab": {
          "base_uri": "https://localhost:8080/",
          "height": 1000
        },
        "id": "j_5OQV1FapZK",
        "outputId": "ad29aa35-b5eb-424e-8995-d2dd56ce3745"
      },
      "execution_count": null,
      "outputs": [
        {
          "output_type": "stream",
          "name": "stdout",
          "text": [
            "Generating BERT embeddings for unlabeled data...\n"
          ]
        },
        {
          "output_type": "stream",
          "name": "stderr",
          "text": [
            "Generating BERT embeddings: 100%|██████████| 188/188 [28:21<00:00,  9.05s/it]\n"
          ]
        },
        {
          "output_type": "stream",
          "name": "stdout",
          "text": [
            "Number of uncertain or class 1 predictions for manual labeling: 42\n"
          ]
        },
        {
          "output_type": "display_data",
          "data": {
            "text/plain": [
              "                                                     Text  predicted_proba_1  \\\n",
              "110506  Didn't give correct items. Had to sub out caus...           0.891741   \n",
              "9979           Starbucks is this available in Canada too?           0.634263   \n",
              "58109   Cant even give your Burnt coffee away!!! Lets ...           0.723355   \n",
              "118856              was not available. had to substitute.           0.985256   \n",
              "72680                          Out of stock not delivered           0.999645   \n",
              "74386           Didn't have enough coconut milk or fruit.           0.826852   \n",
              "83854                                 they didn't have it           0.944406   \n",
              "876     Yummy, looks good !!! Might have to check it o...           0.401582   \n",
              "93397        Didn't add white mocha pumps but was charged           0.579683   \n",
              "106644  Ordered two sandwiches but only received one. ...           0.725765   \n",
              "75208   this was actually sold out  but they called an...           0.999653   \n",
              "97304                                   was not available           0.999218   \n",
              "85168   I felt lucky you even had this in stock! Since...           0.999719   \n",
              "119150  the item expired in march - we're currently in...           0.430910   \n",
              "96463   Please have text in the menu that states when ...           0.822092   \n",
              "29761   jokes on my Starbucks bc my local store NEVER ...           0.993658   \n",
              "85403   It sure what it was  but was not a Cafe Misto-...           0.472626   \n",
              "6452    Trust you? After you sold international distri...           0.926139   \n",
              "117945  they didnt have my food item in stock   they c...           0.992922   \n",
              "34214   Why wouldn't a store honor it? It was in my ap...           0.610659   \n",
              "91947   No butter available  bagel cooled off. Was not...           0.843732   \n",
              "47382   Starbucks if you would have tagged directly I ...           0.985262   \n",
              "85363           Did not get # white cheddar not available           0.998116   \n",
              "126090  they were out of pistachio syrup  but they let...           0.652452   \n",
              "124269              Out of Stock seeking refund for these           0.988474   \n",
              "103373  the Uber eats driver was hearing impaired and ...           0.693722   \n",
              "21054   Wait ! What ! I asked for a cortado and they h...           0.552647   \n",
              "81129                                   Did not have item           0.730872   \n",
              "107285  I ordered plain Madelines but I got the chocol...           0.630558   \n",
              "112286  didn't get it because restaurant didn't put it...           0.468023   \n",
              "92499   because this item wasn't available the store p...           0.953896   \n",
              "110557  They did not adhere to my order notes I even c...           0.517735   \n",
              "115907  wanted the normal amount of flavour syrup (# p...           0.517601   \n",
              "104578  They didn't have it  but I am happy with their...           0.502344   \n",
              "35323   is this already available in all NYC Starbucks...           0.888089   \n",
              "91363                            No cream cheese in stock           0.774577   \n",
              "94089   Restaurant was out of this item. They called m...           0.945559   \n",
              "32633   No thanks. Don't have one nearby, costs too much.           0.583692   \n",
              "75732                      Was sold out and didnt get it.           0.972735   \n",
              "82715   Was sold out  so it was replaced with cranberr...           0.976726   \n",
              "126254  i wasn't contacted that they didn't have any a...           0.974219   \n",
              "83980      Unavailable- should state so on the order form           0.834840   \n",
              "\n",
              "        Label  \n",
              "110506      1  \n",
              "9979        1  \n",
              "58109       1  \n",
              "118856      1  \n",
              "72680       1  \n",
              "74386       1  \n",
              "83854       1  \n",
              "876         0  \n",
              "93397       1  \n",
              "106644      1  \n",
              "75208       1  \n",
              "97304       1  \n",
              "85168       1  \n",
              "119150      0  \n",
              "96463       1  \n",
              "29761       1  \n",
              "85403       0  \n",
              "6452        1  \n",
              "117945      1  \n",
              "34214       1  \n",
              "91947       1  \n",
              "47382       1  \n",
              "85363       1  \n",
              "126090      1  \n",
              "124269      1  \n",
              "103373      1  \n",
              "21054       1  \n",
              "81129       1  \n",
              "107285      1  \n",
              "112286      0  \n",
              "92499       1  \n",
              "110557      1  \n",
              "115907      1  \n",
              "104578      1  \n",
              "35323       1  \n",
              "91363       1  \n",
              "94089       1  \n",
              "32633       1  \n",
              "75732       1  \n",
              "82715       1  \n",
              "126254      1  \n",
              "83980       1  "
            ],
            "text/html": [
              "\n",
              "  <div id=\"df-b9993085-4cb6-4632-a3a3-59334d816dc3\" class=\"colab-df-container\">\n",
              "    <div>\n",
              "<style scoped>\n",
              "    .dataframe tbody tr th:only-of-type {\n",
              "        vertical-align: middle;\n",
              "    }\n",
              "\n",
              "    .dataframe tbody tr th {\n",
              "        vertical-align: top;\n",
              "    }\n",
              "\n",
              "    .dataframe thead th {\n",
              "        text-align: right;\n",
              "    }\n",
              "</style>\n",
              "<table border=\"1\" class=\"dataframe\">\n",
              "  <thead>\n",
              "    <tr style=\"text-align: right;\">\n",
              "      <th></th>\n",
              "      <th>Text</th>\n",
              "      <th>predicted_proba_1</th>\n",
              "      <th>Label</th>\n",
              "    </tr>\n",
              "  </thead>\n",
              "  <tbody>\n",
              "    <tr>\n",
              "      <th>110506</th>\n",
              "      <td>Didn't give correct items. Had to sub out caus...</td>\n",
              "      <td>0.891741</td>\n",
              "      <td>1</td>\n",
              "    </tr>\n",
              "    <tr>\n",
              "      <th>9979</th>\n",
              "      <td>Starbucks is this available in Canada too?</td>\n",
              "      <td>0.634263</td>\n",
              "      <td>1</td>\n",
              "    </tr>\n",
              "    <tr>\n",
              "      <th>58109</th>\n",
              "      <td>Cant even give your Burnt coffee away!!! Lets ...</td>\n",
              "      <td>0.723355</td>\n",
              "      <td>1</td>\n",
              "    </tr>\n",
              "    <tr>\n",
              "      <th>118856</th>\n",
              "      <td>was not available. had to substitute.</td>\n",
              "      <td>0.985256</td>\n",
              "      <td>1</td>\n",
              "    </tr>\n",
              "    <tr>\n",
              "      <th>72680</th>\n",
              "      <td>Out of stock not delivered</td>\n",
              "      <td>0.999645</td>\n",
              "      <td>1</td>\n",
              "    </tr>\n",
              "    <tr>\n",
              "      <th>74386</th>\n",
              "      <td>Didn't have enough coconut milk or fruit.</td>\n",
              "      <td>0.826852</td>\n",
              "      <td>1</td>\n",
              "    </tr>\n",
              "    <tr>\n",
              "      <th>83854</th>\n",
              "      <td>they didn't have it</td>\n",
              "      <td>0.944406</td>\n",
              "      <td>1</td>\n",
              "    </tr>\n",
              "    <tr>\n",
              "      <th>876</th>\n",
              "      <td>Yummy, looks good !!! Might have to check it o...</td>\n",
              "      <td>0.401582</td>\n",
              "      <td>0</td>\n",
              "    </tr>\n",
              "    <tr>\n",
              "      <th>93397</th>\n",
              "      <td>Didn't add white mocha pumps but was charged</td>\n",
              "      <td>0.579683</td>\n",
              "      <td>1</td>\n",
              "    </tr>\n",
              "    <tr>\n",
              "      <th>106644</th>\n",
              "      <td>Ordered two sandwiches but only received one. ...</td>\n",
              "      <td>0.725765</td>\n",
              "      <td>1</td>\n",
              "    </tr>\n",
              "    <tr>\n",
              "      <th>75208</th>\n",
              "      <td>this was actually sold out  but they called an...</td>\n",
              "      <td>0.999653</td>\n",
              "      <td>1</td>\n",
              "    </tr>\n",
              "    <tr>\n",
              "      <th>97304</th>\n",
              "      <td>was not available</td>\n",
              "      <td>0.999218</td>\n",
              "      <td>1</td>\n",
              "    </tr>\n",
              "    <tr>\n",
              "      <th>85168</th>\n",
              "      <td>I felt lucky you even had this in stock! Since...</td>\n",
              "      <td>0.999719</td>\n",
              "      <td>1</td>\n",
              "    </tr>\n",
              "    <tr>\n",
              "      <th>119150</th>\n",
              "      <td>the item expired in march - we're currently in...</td>\n",
              "      <td>0.430910</td>\n",
              "      <td>0</td>\n",
              "    </tr>\n",
              "    <tr>\n",
              "      <th>96463</th>\n",
              "      <td>Please have text in the menu that states when ...</td>\n",
              "      <td>0.822092</td>\n",
              "      <td>1</td>\n",
              "    </tr>\n",
              "    <tr>\n",
              "      <th>29761</th>\n",
              "      <td>jokes on my Starbucks bc my local store NEVER ...</td>\n",
              "      <td>0.993658</td>\n",
              "      <td>1</td>\n",
              "    </tr>\n",
              "    <tr>\n",
              "      <th>85403</th>\n",
              "      <td>It sure what it was  but was not a Cafe Misto-...</td>\n",
              "      <td>0.472626</td>\n",
              "      <td>0</td>\n",
              "    </tr>\n",
              "    <tr>\n",
              "      <th>6452</th>\n",
              "      <td>Trust you? After you sold international distri...</td>\n",
              "      <td>0.926139</td>\n",
              "      <td>1</td>\n",
              "    </tr>\n",
              "    <tr>\n",
              "      <th>117945</th>\n",
              "      <td>they didnt have my food item in stock   they c...</td>\n",
              "      <td>0.992922</td>\n",
              "      <td>1</td>\n",
              "    </tr>\n",
              "    <tr>\n",
              "      <th>34214</th>\n",
              "      <td>Why wouldn't a store honor it? It was in my ap...</td>\n",
              "      <td>0.610659</td>\n",
              "      <td>1</td>\n",
              "    </tr>\n",
              "    <tr>\n",
              "      <th>91947</th>\n",
              "      <td>No butter available  bagel cooled off. Was not...</td>\n",
              "      <td>0.843732</td>\n",
              "      <td>1</td>\n",
              "    </tr>\n",
              "    <tr>\n",
              "      <th>47382</th>\n",
              "      <td>Starbucks if you would have tagged directly I ...</td>\n",
              "      <td>0.985262</td>\n",
              "      <td>1</td>\n",
              "    </tr>\n",
              "    <tr>\n",
              "      <th>85363</th>\n",
              "      <td>Did not get # white cheddar not available</td>\n",
              "      <td>0.998116</td>\n",
              "      <td>1</td>\n",
              "    </tr>\n",
              "    <tr>\n",
              "      <th>126090</th>\n",
              "      <td>they were out of pistachio syrup  but they let...</td>\n",
              "      <td>0.652452</td>\n",
              "      <td>1</td>\n",
              "    </tr>\n",
              "    <tr>\n",
              "      <th>124269</th>\n",
              "      <td>Out of Stock seeking refund for these</td>\n",
              "      <td>0.988474</td>\n",
              "      <td>1</td>\n",
              "    </tr>\n",
              "    <tr>\n",
              "      <th>103373</th>\n",
              "      <td>the Uber eats driver was hearing impaired and ...</td>\n",
              "      <td>0.693722</td>\n",
              "      <td>1</td>\n",
              "    </tr>\n",
              "    <tr>\n",
              "      <th>21054</th>\n",
              "      <td>Wait ! What ! I asked for a cortado and they h...</td>\n",
              "      <td>0.552647</td>\n",
              "      <td>1</td>\n",
              "    </tr>\n",
              "    <tr>\n",
              "      <th>81129</th>\n",
              "      <td>Did not have item</td>\n",
              "      <td>0.730872</td>\n",
              "      <td>1</td>\n",
              "    </tr>\n",
              "    <tr>\n",
              "      <th>107285</th>\n",
              "      <td>I ordered plain Madelines but I got the chocol...</td>\n",
              "      <td>0.630558</td>\n",
              "      <td>1</td>\n",
              "    </tr>\n",
              "    <tr>\n",
              "      <th>112286</th>\n",
              "      <td>didn't get it because restaurant didn't put it...</td>\n",
              "      <td>0.468023</td>\n",
              "      <td>0</td>\n",
              "    </tr>\n",
              "    <tr>\n",
              "      <th>92499</th>\n",
              "      <td>because this item wasn't available the store p...</td>\n",
              "      <td>0.953896</td>\n",
              "      <td>1</td>\n",
              "    </tr>\n",
              "    <tr>\n",
              "      <th>110557</th>\n",
              "      <td>They did not adhere to my order notes I even c...</td>\n",
              "      <td>0.517735</td>\n",
              "      <td>1</td>\n",
              "    </tr>\n",
              "    <tr>\n",
              "      <th>115907</th>\n",
              "      <td>wanted the normal amount of flavour syrup (# p...</td>\n",
              "      <td>0.517601</td>\n",
              "      <td>1</td>\n",
              "    </tr>\n",
              "    <tr>\n",
              "      <th>104578</th>\n",
              "      <td>They didn't have it  but I am happy with their...</td>\n",
              "      <td>0.502344</td>\n",
              "      <td>1</td>\n",
              "    </tr>\n",
              "    <tr>\n",
              "      <th>35323</th>\n",
              "      <td>is this already available in all NYC Starbucks...</td>\n",
              "      <td>0.888089</td>\n",
              "      <td>1</td>\n",
              "    </tr>\n",
              "    <tr>\n",
              "      <th>91363</th>\n",
              "      <td>No cream cheese in stock</td>\n",
              "      <td>0.774577</td>\n",
              "      <td>1</td>\n",
              "    </tr>\n",
              "    <tr>\n",
              "      <th>94089</th>\n",
              "      <td>Restaurant was out of this item. They called m...</td>\n",
              "      <td>0.945559</td>\n",
              "      <td>1</td>\n",
              "    </tr>\n",
              "    <tr>\n",
              "      <th>32633</th>\n",
              "      <td>No thanks. Don't have one nearby, costs too much.</td>\n",
              "      <td>0.583692</td>\n",
              "      <td>1</td>\n",
              "    </tr>\n",
              "    <tr>\n",
              "      <th>75732</th>\n",
              "      <td>Was sold out and didnt get it.</td>\n",
              "      <td>0.972735</td>\n",
              "      <td>1</td>\n",
              "    </tr>\n",
              "    <tr>\n",
              "      <th>82715</th>\n",
              "      <td>Was sold out  so it was replaced with cranberr...</td>\n",
              "      <td>0.976726</td>\n",
              "      <td>1</td>\n",
              "    </tr>\n",
              "    <tr>\n",
              "      <th>126254</th>\n",
              "      <td>i wasn't contacted that they didn't have any a...</td>\n",
              "      <td>0.974219</td>\n",
              "      <td>1</td>\n",
              "    </tr>\n",
              "    <tr>\n",
              "      <th>83980</th>\n",
              "      <td>Unavailable- should state so on the order form</td>\n",
              "      <td>0.834840</td>\n",
              "      <td>1</td>\n",
              "    </tr>\n",
              "  </tbody>\n",
              "</table>\n",
              "</div>\n",
              "    <div class=\"colab-df-buttons\">\n",
              "\n",
              "  <div class=\"colab-df-container\">\n",
              "    <button class=\"colab-df-convert\" onclick=\"convertToInteractive('df-b9993085-4cb6-4632-a3a3-59334d816dc3')\"\n",
              "            title=\"Convert this dataframe to an interactive table.\"\n",
              "            style=\"display:none;\">\n",
              "\n",
              "  <svg xmlns=\"http://www.w3.org/2000/svg\" height=\"24px\" viewBox=\"0 -960 960 960\">\n",
              "    <path d=\"M120-120v-720h720v720H120Zm60-500h600v-160H180v160Zm220 220h160v-160H400v160Zm0 220h160v-160H400v160ZM180-400h160v-160H180v160Zm440 0h160v-160H620v160ZM180-180h160v-160H180v160Zm440 0h160v-160H620v160Z\"/>\n",
              "  </svg>\n",
              "    </button>\n",
              "\n",
              "  <style>\n",
              "    .colab-df-container {\n",
              "      display:flex;\n",
              "      gap: 12px;\n",
              "    }\n",
              "\n",
              "    .colab-df-convert {\n",
              "      background-color: #E8F0FE;\n",
              "      border: none;\n",
              "      border-radius: 50%;\n",
              "      cursor: pointer;\n",
              "      display: none;\n",
              "      fill: #1967D2;\n",
              "      height: 32px;\n",
              "      padding: 0 0 0 0;\n",
              "      width: 32px;\n",
              "    }\n",
              "\n",
              "    .colab-df-convert:hover {\n",
              "      background-color: #E2EBFA;\n",
              "      box-shadow: 0px 1px 2px rgba(60, 64, 67, 0.3), 0px 1px 3px 1px rgba(60, 64, 67, 0.15);\n",
              "      fill: #174EA6;\n",
              "    }\n",
              "\n",
              "    .colab-df-buttons div {\n",
              "      margin-bottom: 4px;\n",
              "    }\n",
              "\n",
              "    [theme=dark] .colab-df-convert {\n",
              "      background-color: #3B4455;\n",
              "      fill: #D2E3FC;\n",
              "    }\n",
              "\n",
              "    [theme=dark] .colab-df-convert:hover {\n",
              "      background-color: #434B5C;\n",
              "      box-shadow: 0px 1px 3px 1px rgba(0, 0, 0, 0.15);\n",
              "      filter: drop-shadow(0px 1px 2px rgba(0, 0, 0, 0.3));\n",
              "      fill: #FFFFFF;\n",
              "    }\n",
              "  </style>\n",
              "\n",
              "    <script>\n",
              "      const buttonEl =\n",
              "        document.querySelector('#df-b9993085-4cb6-4632-a3a3-59334d816dc3 button.colab-df-convert');\n",
              "      buttonEl.style.display =\n",
              "        google.colab.kernel.accessAllowed ? 'block' : 'none';\n",
              "\n",
              "      async function convertToInteractive(key) {\n",
              "        const element = document.querySelector('#df-b9993085-4cb6-4632-a3a3-59334d816dc3');\n",
              "        const dataTable =\n",
              "          await google.colab.kernel.invokeFunction('convertToInteractive',\n",
              "                                                    [key], {});\n",
              "        if (!dataTable) return;\n",
              "\n",
              "        const docLinkHtml = 'Like what you see? Visit the ' +\n",
              "          '<a target=\"_blank\" href=https://colab.research.google.com/notebooks/data_table.ipynb>data table notebook</a>'\n",
              "          + ' to learn more about interactive tables.';\n",
              "        element.innerHTML = '';\n",
              "        dataTable['output_type'] = 'display_data';\n",
              "        await google.colab.output.renderOutput(dataTable, element);\n",
              "        const docLink = document.createElement('div');\n",
              "        docLink.innerHTML = docLinkHtml;\n",
              "        element.appendChild(docLink);\n",
              "      }\n",
              "    </script>\n",
              "  </div>\n",
              "\n",
              "\n",
              "    <div id=\"df-1528ee82-1c4f-416c-a7e2-f11a308cd829\">\n",
              "      <button class=\"colab-df-quickchart\" onclick=\"quickchart('df-1528ee82-1c4f-416c-a7e2-f11a308cd829')\"\n",
              "                title=\"Suggest charts\"\n",
              "                style=\"display:none;\">\n",
              "\n",
              "<svg xmlns=\"http://www.w3.org/2000/svg\" height=\"24px\"viewBox=\"0 0 24 24\"\n",
              "     width=\"24px\">\n",
              "    <g>\n",
              "        <path d=\"M19 3H5c-1.1 0-2 .9-2 2v14c0 1.1.9 2 2 2h14c1.1 0 2-.9 2-2V5c0-1.1-.9-2-2-2zM9 17H7v-7h2v7zm4 0h-2V7h2v10zm4 0h-2v-4h2v4z\"/>\n",
              "    </g>\n",
              "</svg>\n",
              "      </button>\n",
              "\n",
              "<style>\n",
              "  .colab-df-quickchart {\n",
              "      --bg-color: #E8F0FE;\n",
              "      --fill-color: #1967D2;\n",
              "      --hover-bg-color: #E2EBFA;\n",
              "      --hover-fill-color: #174EA6;\n",
              "      --disabled-fill-color: #AAA;\n",
              "      --disabled-bg-color: #DDD;\n",
              "  }\n",
              "\n",
              "  [theme=dark] .colab-df-quickchart {\n",
              "      --bg-color: #3B4455;\n",
              "      --fill-color: #D2E3FC;\n",
              "      --hover-bg-color: #434B5C;\n",
              "      --hover-fill-color: #FFFFFF;\n",
              "      --disabled-bg-color: #3B4455;\n",
              "      --disabled-fill-color: #666;\n",
              "  }\n",
              "\n",
              "  .colab-df-quickchart {\n",
              "    background-color: var(--bg-color);\n",
              "    border: none;\n",
              "    border-radius: 50%;\n",
              "    cursor: pointer;\n",
              "    display: none;\n",
              "    fill: var(--fill-color);\n",
              "    height: 32px;\n",
              "    padding: 0;\n",
              "    width: 32px;\n",
              "  }\n",
              "\n",
              "  .colab-df-quickchart:hover {\n",
              "    background-color: var(--hover-bg-color);\n",
              "    box-shadow: 0 1px 2px rgba(60, 64, 67, 0.3), 0 1px 3px 1px rgba(60, 64, 67, 0.15);\n",
              "    fill: var(--button-hover-fill-color);\n",
              "  }\n",
              "\n",
              "  .colab-df-quickchart-complete:disabled,\n",
              "  .colab-df-quickchart-complete:disabled:hover {\n",
              "    background-color: var(--disabled-bg-color);\n",
              "    fill: var(--disabled-fill-color);\n",
              "    box-shadow: none;\n",
              "  }\n",
              "\n",
              "  .colab-df-spinner {\n",
              "    border: 2px solid var(--fill-color);\n",
              "    border-color: transparent;\n",
              "    border-bottom-color: var(--fill-color);\n",
              "    animation:\n",
              "      spin 1s steps(1) infinite;\n",
              "  }\n",
              "\n",
              "  @keyframes spin {\n",
              "    0% {\n",
              "      border-color: transparent;\n",
              "      border-bottom-color: var(--fill-color);\n",
              "      border-left-color: var(--fill-color);\n",
              "    }\n",
              "    20% {\n",
              "      border-color: transparent;\n",
              "      border-left-color: var(--fill-color);\n",
              "      border-top-color: var(--fill-color);\n",
              "    }\n",
              "    30% {\n",
              "      border-color: transparent;\n",
              "      border-left-color: var(--fill-color);\n",
              "      border-top-color: var(--fill-color);\n",
              "      border-right-color: var(--fill-color);\n",
              "    }\n",
              "    40% {\n",
              "      border-color: transparent;\n",
              "      border-right-color: var(--fill-color);\n",
              "      border-top-color: var(--fill-color);\n",
              "    }\n",
              "    60% {\n",
              "      border-color: transparent;\n",
              "      border-right-color: var(--fill-color);\n",
              "    }\n",
              "    80% {\n",
              "      border-color: transparent;\n",
              "      border-right-color: var(--fill-color);\n",
              "      border-bottom-color: var(--fill-color);\n",
              "    }\n",
              "    90% {\n",
              "      border-color: transparent;\n",
              "      border-bottom-color: var(--fill-color);\n",
              "    }\n",
              "  }\n",
              "</style>\n",
              "\n",
              "      <script>\n",
              "        async function quickchart(key) {\n",
              "          const quickchartButtonEl =\n",
              "            document.querySelector('#' + key + ' button');\n",
              "          quickchartButtonEl.disabled = true;  // To prevent multiple clicks.\n",
              "          quickchartButtonEl.classList.add('colab-df-spinner');\n",
              "          try {\n",
              "            const charts = await google.colab.kernel.invokeFunction(\n",
              "                'suggestCharts', [key], {});\n",
              "          } catch (error) {\n",
              "            console.error('Error during call to suggestCharts:', error);\n",
              "          }\n",
              "          quickchartButtonEl.classList.remove('colab-df-spinner');\n",
              "          quickchartButtonEl.classList.add('colab-df-quickchart-complete');\n",
              "        }\n",
              "        (() => {\n",
              "          let quickchartButtonEl =\n",
              "            document.querySelector('#df-1528ee82-1c4f-416c-a7e2-f11a308cd829 button');\n",
              "          quickchartButtonEl.style.display =\n",
              "            google.colab.kernel.accessAllowed ? 'block' : 'none';\n",
              "        })();\n",
              "      </script>\n",
              "    </div>\n",
              "\n",
              "    </div>\n",
              "  </div>\n"
            ],
            "application/vnd.google.colaboratory.intrinsic+json": {
              "type": "dataframe",
              "summary": "{\n  \"name\": \"uncertain_or_class_1[cols_to_export_al]\",\n  \"rows\": 42,\n  \"fields\": [\n    {\n      \"column\": \"Text\",\n      \"properties\": {\n        \"dtype\": \"string\",\n        \"num_unique_values\": 42,\n        \"samples\": [\n          \"the Uber eats driver was hearing impaired and I was unable to call them and the app does not allow to send messages after items were delivered.  my name was Len the order I received was for someone named Ellen.\",\n          \"the item expired in march - we're currently in May\",\n          \"Didn't add white mocha pumps but was charged\"\n        ],\n        \"semantic_type\": \"\",\n        \"description\": \"\"\n      }\n    },\n    {\n      \"column\": \"predicted_proba_1\",\n      \"properties\": {\n        \"dtype\": \"number\",\n        \"std\": 0.19875235183324902,\n        \"min\": 0.40158200276396594,\n        \"max\": 0.9997187984811101,\n        \"num_unique_values\": 42,\n        \"samples\": [\n          0.6937215388029582,\n          0.4309098910710665,\n          0.5796828016969864\n        ],\n        \"semantic_type\": \"\",\n        \"description\": \"\"\n      }\n    },\n    {\n      \"column\": \"Label\",\n      \"properties\": {\n        \"dtype\": \"number\",\n        \"std\": 0,\n        \"min\": 0,\n        \"max\": 1,\n        \"num_unique_values\": 2,\n        \"samples\": [\n          0,\n          1\n        ],\n        \"semantic_type\": \"\",\n        \"description\": \"\"\n      }\n    }\n  ]\n}"
            }
          },
          "metadata": {}
        }
      ]
    },
    {
      "cell_type": "code",
      "source": [
        "# Read in manually labeled datasets\n",
        "path = '/content/drive/My Drive/Labeled_Data/'\n",
        "labeled_active_learning = pd.read_excel(path + 'active_learning_labeled.xlsx')\n",
        "labeled_active_learning_subset = labeled_active_learning[['Text', 'Label']].copy()\n",
        "\n",
        "# Combine the original training set with the manually labeled active learning data\n",
        "train_new = pd.concat([train[['Text', 'Label']], labeled_active_learning_subset], ignore_index=True)\n",
        "\n",
        "# Preprocess updated training data\n",
        "train_new_tokens = train_new['Text'].apply(preprocess_text_for_phrasing)\n",
        "train_new_phrased = train_new_tokens.apply(lambda tokens: phraser[tokens])\n",
        "train_new['Text_tfidf'] = train_new_phrased.apply(lambda tokens: ' '.join(tokens))\n",
        "\n",
        "# Use the same fitted TF-IDF vectorizer\n",
        "X_train_new_tfidf = tfidf_vectorizer.transform(train_new['Text_tfidf']).toarray()\n",
        "\n",
        "# Get BERT embeddings and use the same fitted scaler\n",
        "print(\"Generating BERT embeddings for updated training data...\")\n",
        "X_train_new_bert = get_bert_embeddings(train_new['Text'])\n",
        "X_train_new_bert = scaler.transform(X_train_new_bert)\n",
        "\n",
        "# Combine embeddings\n",
        "X_train_new_combined = np.concatenate((X_train_new_bert, X_train_new_tfidf), axis=1)\n",
        "print(f\"Updated combined training features shape: {X_train_new_combined.shape}\")"
      ],
      "metadata": {
        "colab": {
          "base_uri": "https://localhost:8080/"
        },
        "id": "mnYj4sTz71Pm",
        "outputId": "5470e144-8112-498a-c650-378128f075f7"
      },
      "execution_count": null,
      "outputs": [
        {
          "output_type": "stream",
          "name": "stdout",
          "text": [
            "Generating BERT embeddings for updated training data...\n"
          ]
        },
        {
          "output_type": "stream",
          "name": "stderr",
          "text": [
            "Generating BERT embeddings: 100%|██████████| 203/203 [28:26<00:00,  8.41s/it]"
          ]
        },
        {
          "output_type": "stream",
          "name": "stdout",
          "text": [
            "Updated combined training features shape: (3242, 3419)\n"
          ]
        },
        {
          "output_type": "stream",
          "name": "stderr",
          "text": [
            "\n"
          ]
        }
      ]
    },
    {
      "cell_type": "code",
      "source": [
        "# Retrain LightGBM using best hyperparameters\n",
        "final_lgb_model_active = lgb.LGBMClassifier(**best_lgb_params)\n",
        "final_lgb_model_active.fit(X_train_new_combined, train_new['Label'])\n",
        "\n",
        "# Predict on the original test set (same as before)\n",
        "y_test_probs_active = final_lgb_model_active.predict_proba(X_test_combined)[:, 1]\n",
        "y_test_preds_active = (y_test_probs_active >= lgb_threshold).astype(int)\n",
        "\n",
        "# Evaluate model after active learning\n",
        "print(\"\\n Evaluation on Test Set AFTER Active Learning\")\n",
        "print(classification_report(test_labels, y_test_preds_active, digits=4))\n",
        "print(f\"Log Loss: {log_loss(test_labels, y_test_probs_active):.4f}\")\n",
        "\n",
        "# Show confusion matrix\n",
        "ConfusionMatrixDisplay.from_predictions(\n",
        "    test_labels, y_test_preds_active, display_labels=[0, 1], cmap='Blues'\n",
        ")"
      ],
      "metadata": {
        "colab": {
          "base_uri": "https://localhost:8080/",
          "height": 681
        },
        "id": "JaabdV1T9ZM6",
        "outputId": "c5b2b306-2db3-4284-aeb7-49cc3cb1bec8"
      },
      "execution_count": null,
      "outputs": [
        {
          "output_type": "stream",
          "name": "stdout",
          "text": [
            "\n",
            " Evaluation on Test Set AFTER Active Learning\n",
            "              precision    recall  f1-score   support\n",
            "\n",
            "           0     0.9924    0.9987    0.9956       788\n",
            "           1     0.8571    0.5000    0.6316        12\n",
            "\n",
            "    accuracy                         0.9912       800\n",
            "   macro avg     0.9248    0.7494    0.8136       800\n",
            "weighted avg     0.9904    0.9912    0.9901       800\n",
            "\n",
            "Log Loss: 0.0340\n"
          ]
        },
        {
          "output_type": "execute_result",
          "data": {
            "text/plain": [
              "<sklearn.metrics._plot.confusion_matrix.ConfusionMatrixDisplay at 0x7eb0a8d90d10>"
            ]
          },
          "metadata": {},
          "execution_count": 40
        },
        {
          "output_type": "display_data",
          "data": {
            "text/plain": [
              "<Figure size 640x480 with 2 Axes>"
            ],
            "image/png": "[encoded data removed]"
          },
          "metadata": {}
        }
      ]
    },
    {
      "cell_type": "markdown",
      "source": [
        "Active learning did not improve the model's performance on the test set. This is likely due to the size of the used in this test. While it did not improve performance, this code can be used as a framework for Starbucks to test with larger amounts of data."
      ],
      "metadata": {
        "id": "m8fEeeVHNrD-"
      }
    },
    {
      "cell_type": "markdown",
      "source": [
        "### 9 - User-interface integration\n",
        "\n",
        "\n",
        "---\n",
        "\n",
        "For deployment on the web application, the following are saved:\n",
        "- Best model\n",
        "- Best feature engineering method"
      ],
      "metadata": {
        "id": "H8CdQ-kn90DR"
      }
    },
    {
      "cell_type": "markdown",
      "source": [
        "**Save objects**"
      ],
      "metadata": {
        "id": "x2VmsuCrBvj4"
      }
    },
    {
      "cell_type": "code",
      "source": [
        "import joblib\n",
        "import os\n",
        "\n",
        "# Define the path to save the model file in Google Drive\n",
        "drive_path = '/content/drive/My Drive/'\n",
        "os.makedirs(drive_path, exist_ok=True)\n",
        "\n",
        "# Save model\n",
        "final_model = final_lgb_model\n",
        "joblib.dump(final_model, drive_path + 'lgb_model.pkl', compress = 1)\n",
        "\n",
        "# Save feature engineering\n",
        "joblib.dump(phraser, drive_path + 'phraser.pkl')\n",
        "joblib.dump(tfidf_vectorizer, drive_path + 'tfidf_vectorizer.pkl')\n",
        "joblib.dump(scaler, drive_path + 'bert_scaler.pkl')"
      ],
      "metadata": {
        "id": "LaUIRmR5Mj9U",
        "colab": {
          "base_uri": "https://localhost:8080/"
        },
        "outputId": "7401dc21-4ab0-4746-dd2d-c10e3ab6191c"
      },
      "execution_count": null,
      "outputs": [
        {
          "output_type": "execute_result",
          "data": {
            "text/plain": [
              "['/content/drive/My Drive/bert_scaler.pkl']"
            ]
          },
          "metadata": {},
          "execution_count": 41
        }
      ]
    }
  ]
}